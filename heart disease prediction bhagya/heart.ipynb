{
 "cells": [
  {
   "cell_type": "code",
   "execution_count": 2,
   "metadata": {},
   "outputs": [],
   "source": [
    "# Importing libraries and adjusting plotting settings\n",
    "import pandas as pd #cleaning and manipulating data\n",
    "import numpy as np #numerical operations\n",
    "import seaborn as sns #plotting graph\n",
    "import matplotlib.pyplot as plt #plotting graph\n",
    "from sklearn import preprocessing #statistical models\n",
    "from sklearn.model_selection import train_test_split #splitting data\n",
    "from sklearn import linear_model \n",
    "from sklearn import metrics #evaluation metrics\n",
    "import plotly.express as px #graph plotting\n",
    "from plotly.subplots import make_subplots #graph plotting\n",
    "import plotly.graph_objects as go #graph plotting\n",
    "plt.rc('font', size=20) \n",
    "plt.rc('axes', titlesize=20)\n",
    "plt.rc('axes', labelsize=20)\n",
    "plt.rc('xtick', labelsize=20)\n",
    "plt.rc('ytick', labelsize=20) \n",
    "plt.rc('legend', fontsize=20)    \n",
    "plt.rc('figure', titlesize=20)\n",
    "import warnings\n",
    "warnings.filterwarnings('ignore')\n",
    "%config Completer.use_jedi = False"
   ]
  },
  {
   "cell_type": "markdown",
   "metadata": {},
   "source": [
    "## Reading and cleaning the data"
   ]
  },
  {
   "cell_type": "code",
   "execution_count": 5,
   "metadata": {},
   "outputs": [],
   "source": [
    "df = pd.read_csv('data/heart_2020_cleaned.csv')"
   ]
  },
  {
   "cell_type": "code",
   "execution_count": 11,
   "metadata": {},
   "outputs": [
    {
     "data": {
      "text/html": [
       "<div>\n",
       "<style scoped>\n",
       "    .dataframe tbody tr th:only-of-type {\n",
       "        vertical-align: middle;\n",
       "    }\n",
       "\n",
       "    .dataframe tbody tr th {\n",
       "        vertical-align: top;\n",
       "    }\n",
       "\n",
       "    .dataframe thead th {\n",
       "        text-align: right;\n",
       "    }\n",
       "</style>\n",
       "<table border=\"1\" class=\"dataframe\">\n",
       "  <thead>\n",
       "    <tr style=\"text-align: right;\">\n",
       "      <th></th>\n",
       "      <th>HeartDisease</th>\n",
       "      <th>BMICategory</th>\n",
       "      <th>Smoking</th>\n",
       "      <th>AlcoholDrinking</th>\n",
       "      <th>Stroke</th>\n",
       "      <th>PhysicalHealth</th>\n",
       "      <th>MentalHealth</th>\n",
       "      <th>DiffWalking</th>\n",
       "      <th>Sex</th>\n",
       "      <th>AgeCategory</th>\n",
       "      <th>Race</th>\n",
       "      <th>Diabetic</th>\n",
       "      <th>PhysicalActivity</th>\n",
       "      <th>GenHealth</th>\n",
       "      <th>SleepTime</th>\n",
       "      <th>Asthma</th>\n",
       "      <th>KidneyDisease</th>\n",
       "      <th>SkinCancer</th>\n",
       "    </tr>\n",
       "  </thead>\n",
       "  <tbody>\n",
       "    <tr>\n",
       "      <th>0</th>\n",
       "      <td>No</td>\n",
       "      <td>Underweight (BMI &lt; 18.5)</td>\n",
       "      <td>Yes</td>\n",
       "      <td>No</td>\n",
       "      <td>No</td>\n",
       "      <td>3.0</td>\n",
       "      <td>30.0</td>\n",
       "      <td>No</td>\n",
       "      <td>Female</td>\n",
       "      <td>55-59</td>\n",
       "      <td>White</td>\n",
       "      <td>Yes</td>\n",
       "      <td>Yes</td>\n",
       "      <td>Very good</td>\n",
       "      <td>5.0</td>\n",
       "      <td>Yes</td>\n",
       "      <td>No</td>\n",
       "      <td>Yes</td>\n",
       "    </tr>\n",
       "    <tr>\n",
       "      <th>1</th>\n",
       "      <td>No</td>\n",
       "      <td>Normal weight (18.5 &lt;= BMI &lt; 25.0)</td>\n",
       "      <td>No</td>\n",
       "      <td>No</td>\n",
       "      <td>Yes</td>\n",
       "      <td>0.0</td>\n",
       "      <td>0.0</td>\n",
       "      <td>No</td>\n",
       "      <td>Female</td>\n",
       "      <td>80 or older</td>\n",
       "      <td>White</td>\n",
       "      <td>No</td>\n",
       "      <td>Yes</td>\n",
       "      <td>Very good</td>\n",
       "      <td>7.0</td>\n",
       "      <td>No</td>\n",
       "      <td>No</td>\n",
       "      <td>No</td>\n",
       "    </tr>\n",
       "    <tr>\n",
       "      <th>2</th>\n",
       "      <td>No</td>\n",
       "      <td>Overweight (25.0 &lt;= BMI &lt; 30.0)</td>\n",
       "      <td>Yes</td>\n",
       "      <td>No</td>\n",
       "      <td>No</td>\n",
       "      <td>20.0</td>\n",
       "      <td>30.0</td>\n",
       "      <td>No</td>\n",
       "      <td>Male</td>\n",
       "      <td>65-69</td>\n",
       "      <td>White</td>\n",
       "      <td>Yes</td>\n",
       "      <td>Yes</td>\n",
       "      <td>Fair</td>\n",
       "      <td>8.0</td>\n",
       "      <td>Yes</td>\n",
       "      <td>No</td>\n",
       "      <td>No</td>\n",
       "    </tr>\n",
       "    <tr>\n",
       "      <th>3</th>\n",
       "      <td>No</td>\n",
       "      <td>Normal weight (18.5 &lt;= BMI &lt; 25.0)</td>\n",
       "      <td>No</td>\n",
       "      <td>No</td>\n",
       "      <td>No</td>\n",
       "      <td>0.0</td>\n",
       "      <td>0.0</td>\n",
       "      <td>No</td>\n",
       "      <td>Female</td>\n",
       "      <td>75-79</td>\n",
       "      <td>White</td>\n",
       "      <td>No</td>\n",
       "      <td>No</td>\n",
       "      <td>Good</td>\n",
       "      <td>6.0</td>\n",
       "      <td>No</td>\n",
       "      <td>No</td>\n",
       "      <td>Yes</td>\n",
       "    </tr>\n",
       "    <tr>\n",
       "      <th>4</th>\n",
       "      <td>No</td>\n",
       "      <td>Normal weight (18.5 &lt;= BMI &lt; 25.0)</td>\n",
       "      <td>No</td>\n",
       "      <td>No</td>\n",
       "      <td>No</td>\n",
       "      <td>28.0</td>\n",
       "      <td>0.0</td>\n",
       "      <td>Yes</td>\n",
       "      <td>Female</td>\n",
       "      <td>40-44</td>\n",
       "      <td>White</td>\n",
       "      <td>No</td>\n",
       "      <td>Yes</td>\n",
       "      <td>Very good</td>\n",
       "      <td>8.0</td>\n",
       "      <td>No</td>\n",
       "      <td>No</td>\n",
       "      <td>No</td>\n",
       "    </tr>\n",
       "    <tr>\n",
       "      <th>...</th>\n",
       "      <td>...</td>\n",
       "      <td>...</td>\n",
       "      <td>...</td>\n",
       "      <td>...</td>\n",
       "      <td>...</td>\n",
       "      <td>...</td>\n",
       "      <td>...</td>\n",
       "      <td>...</td>\n",
       "      <td>...</td>\n",
       "      <td>...</td>\n",
       "      <td>...</td>\n",
       "      <td>...</td>\n",
       "      <td>...</td>\n",
       "      <td>...</td>\n",
       "      <td>...</td>\n",
       "      <td>...</td>\n",
       "      <td>...</td>\n",
       "      <td>...</td>\n",
       "    </tr>\n",
       "    <tr>\n",
       "      <th>319790</th>\n",
       "      <td>Yes</td>\n",
       "      <td>Overweight (25.0 &lt;= BMI &lt; 30.0)</td>\n",
       "      <td>Yes</td>\n",
       "      <td>No</td>\n",
       "      <td>No</td>\n",
       "      <td>7.0</td>\n",
       "      <td>0.0</td>\n",
       "      <td>Yes</td>\n",
       "      <td>Male</td>\n",
       "      <td>60-64</td>\n",
       "      <td>Hispanic</td>\n",
       "      <td>Yes</td>\n",
       "      <td>No</td>\n",
       "      <td>Fair</td>\n",
       "      <td>6.0</td>\n",
       "      <td>Yes</td>\n",
       "      <td>No</td>\n",
       "      <td>No</td>\n",
       "    </tr>\n",
       "    <tr>\n",
       "      <th>319791</th>\n",
       "      <td>No</td>\n",
       "      <td>Overweight (25.0 &lt;= BMI &lt; 30.0)</td>\n",
       "      <td>Yes</td>\n",
       "      <td>No</td>\n",
       "      <td>No</td>\n",
       "      <td>0.0</td>\n",
       "      <td>0.0</td>\n",
       "      <td>No</td>\n",
       "      <td>Male</td>\n",
       "      <td>35-39</td>\n",
       "      <td>Hispanic</td>\n",
       "      <td>No</td>\n",
       "      <td>Yes</td>\n",
       "      <td>Very good</td>\n",
       "      <td>5.0</td>\n",
       "      <td>Yes</td>\n",
       "      <td>No</td>\n",
       "      <td>No</td>\n",
       "    </tr>\n",
       "    <tr>\n",
       "      <th>319792</th>\n",
       "      <td>No</td>\n",
       "      <td>Normal weight (18.5 &lt;= BMI &lt; 25.0)</td>\n",
       "      <td>No</td>\n",
       "      <td>No</td>\n",
       "      <td>No</td>\n",
       "      <td>0.0</td>\n",
       "      <td>0.0</td>\n",
       "      <td>No</td>\n",
       "      <td>Female</td>\n",
       "      <td>45-49</td>\n",
       "      <td>Hispanic</td>\n",
       "      <td>No</td>\n",
       "      <td>Yes</td>\n",
       "      <td>Good</td>\n",
       "      <td>6.0</td>\n",
       "      <td>No</td>\n",
       "      <td>No</td>\n",
       "      <td>No</td>\n",
       "    </tr>\n",
       "    <tr>\n",
       "      <th>319793</th>\n",
       "      <td>No</td>\n",
       "      <td>Obese (30.0 &lt;= BMI &lt; +Inf)</td>\n",
       "      <td>No</td>\n",
       "      <td>No</td>\n",
       "      <td>No</td>\n",
       "      <td>0.0</td>\n",
       "      <td>0.0</td>\n",
       "      <td>No</td>\n",
       "      <td>Female</td>\n",
       "      <td>25-29</td>\n",
       "      <td>Hispanic</td>\n",
       "      <td>No</td>\n",
       "      <td>No</td>\n",
       "      <td>Good</td>\n",
       "      <td>12.0</td>\n",
       "      <td>No</td>\n",
       "      <td>No</td>\n",
       "      <td>No</td>\n",
       "    </tr>\n",
       "    <tr>\n",
       "      <th>319794</th>\n",
       "      <td>No</td>\n",
       "      <td>Obese (30.0 &lt;= BMI &lt; +Inf)</td>\n",
       "      <td>No</td>\n",
       "      <td>No</td>\n",
       "      <td>No</td>\n",
       "      <td>0.0</td>\n",
       "      <td>0.0</td>\n",
       "      <td>No</td>\n",
       "      <td>Female</td>\n",
       "      <td>80 or older</td>\n",
       "      <td>Hispanic</td>\n",
       "      <td>No</td>\n",
       "      <td>Yes</td>\n",
       "      <td>Good</td>\n",
       "      <td>8.0</td>\n",
       "      <td>No</td>\n",
       "      <td>No</td>\n",
       "      <td>No</td>\n",
       "    </tr>\n",
       "  </tbody>\n",
       "</table>\n",
       "<p>319795 rows × 18 columns</p>\n",
       "</div>"
      ],
      "text/plain": [
       "       HeartDisease                         BMICategory Smoking  \\\n",
       "0                No            Underweight (BMI < 18.5)     Yes   \n",
       "1                No  Normal weight (18.5 <= BMI < 25.0)      No   \n",
       "2                No     Overweight (25.0 <= BMI < 30.0)     Yes   \n",
       "3                No  Normal weight (18.5 <= BMI < 25.0)      No   \n",
       "4                No  Normal weight (18.5 <= BMI < 25.0)      No   \n",
       "...             ...                                 ...     ...   \n",
       "319790          Yes     Overweight (25.0 <= BMI < 30.0)     Yes   \n",
       "319791           No     Overweight (25.0 <= BMI < 30.0)     Yes   \n",
       "319792           No  Normal weight (18.5 <= BMI < 25.0)      No   \n",
       "319793           No          Obese (30.0 <= BMI < +Inf)      No   \n",
       "319794           No          Obese (30.0 <= BMI < +Inf)      No   \n",
       "\n",
       "       AlcoholDrinking Stroke  PhysicalHealth  MentalHealth DiffWalking  \\\n",
       "0                   No     No             3.0          30.0          No   \n",
       "1                   No    Yes             0.0           0.0          No   \n",
       "2                   No     No            20.0          30.0          No   \n",
       "3                   No     No             0.0           0.0          No   \n",
       "4                   No     No            28.0           0.0         Yes   \n",
       "...                ...    ...             ...           ...         ...   \n",
       "319790              No     No             7.0           0.0         Yes   \n",
       "319791              No     No             0.0           0.0          No   \n",
       "319792              No     No             0.0           0.0          No   \n",
       "319793              No     No             0.0           0.0          No   \n",
       "319794              No     No             0.0           0.0          No   \n",
       "\n",
       "           Sex  AgeCategory      Race Diabetic PhysicalActivity  GenHealth  \\\n",
       "0       Female        55-59     White      Yes              Yes  Very good   \n",
       "1       Female  80 or older     White       No              Yes  Very good   \n",
       "2         Male        65-69     White      Yes              Yes       Fair   \n",
       "3       Female        75-79     White       No               No       Good   \n",
       "4       Female        40-44     White       No              Yes  Very good   \n",
       "...        ...          ...       ...      ...              ...        ...   \n",
       "319790    Male        60-64  Hispanic      Yes               No       Fair   \n",
       "319791    Male        35-39  Hispanic       No              Yes  Very good   \n",
       "319792  Female        45-49  Hispanic       No              Yes       Good   \n",
       "319793  Female        25-29  Hispanic       No               No       Good   \n",
       "319794  Female  80 or older  Hispanic       No              Yes       Good   \n",
       "\n",
       "        SleepTime Asthma KidneyDisease SkinCancer  \n",
       "0             5.0    Yes            No        Yes  \n",
       "1             7.0     No            No         No  \n",
       "2             8.0    Yes            No         No  \n",
       "3             6.0     No            No        Yes  \n",
       "4             8.0     No            No         No  \n",
       "...           ...    ...           ...        ...  \n",
       "319790        6.0    Yes            No         No  \n",
       "319791        5.0    Yes            No         No  \n",
       "319792        6.0     No            No         No  \n",
       "319793       12.0     No            No         No  \n",
       "319794        8.0     No            No         No  \n",
       "\n",
       "[319795 rows x 18 columns]"
      ]
     },
     "execution_count": 11,
     "metadata": {},
     "output_type": "execute_result"
    }
   ],
   "source": [
    "df"
   ]
  },
  {
   "cell_type": "code",
   "execution_count": 7,
   "metadata": {},
   "outputs": [
    {
     "data": {
      "text/html": [
       "<div>\n",
       "<style scoped>\n",
       "    .dataframe tbody tr th:only-of-type {\n",
       "        vertical-align: middle;\n",
       "    }\n",
       "\n",
       "    .dataframe tbody tr th {\n",
       "        vertical-align: top;\n",
       "    }\n",
       "\n",
       "    .dataframe thead th {\n",
       "        text-align: right;\n",
       "    }\n",
       "</style>\n",
       "<table border=\"1\" class=\"dataframe\">\n",
       "  <thead>\n",
       "    <tr style=\"text-align: right;\">\n",
       "      <th></th>\n",
       "      <th>PhysicalHealth</th>\n",
       "      <th>MentalHealth</th>\n",
       "      <th>SleepTime</th>\n",
       "    </tr>\n",
       "  </thead>\n",
       "  <tbody>\n",
       "    <tr>\n",
       "      <th>count</th>\n",
       "      <td>319795.00000</td>\n",
       "      <td>319795.000000</td>\n",
       "      <td>319795.000000</td>\n",
       "    </tr>\n",
       "    <tr>\n",
       "      <th>mean</th>\n",
       "      <td>3.37171</td>\n",
       "      <td>3.898366</td>\n",
       "      <td>7.097075</td>\n",
       "    </tr>\n",
       "    <tr>\n",
       "      <th>std</th>\n",
       "      <td>7.95085</td>\n",
       "      <td>7.955235</td>\n",
       "      <td>1.436007</td>\n",
       "    </tr>\n",
       "    <tr>\n",
       "      <th>min</th>\n",
       "      <td>0.00000</td>\n",
       "      <td>0.000000</td>\n",
       "      <td>1.000000</td>\n",
       "    </tr>\n",
       "    <tr>\n",
       "      <th>25%</th>\n",
       "      <td>0.00000</td>\n",
       "      <td>0.000000</td>\n",
       "      <td>6.000000</td>\n",
       "    </tr>\n",
       "    <tr>\n",
       "      <th>50%</th>\n",
       "      <td>0.00000</td>\n",
       "      <td>0.000000</td>\n",
       "      <td>7.000000</td>\n",
       "    </tr>\n",
       "    <tr>\n",
       "      <th>75%</th>\n",
       "      <td>2.00000</td>\n",
       "      <td>3.000000</td>\n",
       "      <td>8.000000</td>\n",
       "    </tr>\n",
       "    <tr>\n",
       "      <th>max</th>\n",
       "      <td>30.00000</td>\n",
       "      <td>30.000000</td>\n",
       "      <td>24.000000</td>\n",
       "    </tr>\n",
       "  </tbody>\n",
       "</table>\n",
       "</div>"
      ],
      "text/plain": [
       "       PhysicalHealth   MentalHealth      SleepTime\n",
       "count    319795.00000  319795.000000  319795.000000\n",
       "mean          3.37171       3.898366       7.097075\n",
       "std           7.95085       7.955235       1.436007\n",
       "min           0.00000       0.000000       1.000000\n",
       "25%           0.00000       0.000000       6.000000\n",
       "50%           0.00000       0.000000       7.000000\n",
       "75%           2.00000       3.000000       8.000000\n",
       "max          30.00000      30.000000      24.000000"
      ]
     },
     "execution_count": 7,
     "metadata": {},
     "output_type": "execute_result"
    }
   ],
   "source": [
    "df.describe()"
   ]
  },
  {
   "cell_type": "code",
   "execution_count": 8,
   "metadata": {},
   "outputs": [
    {
     "name": "stdout",
     "output_type": "stream",
     "text": [
      "<class 'pandas.core.frame.DataFrame'>\n",
      "RangeIndex: 319795 entries, 0 to 319794\n",
      "Data columns (total 18 columns):\n",
      " #   Column            Non-Null Count   Dtype  \n",
      "---  ------            --------------   -----  \n",
      " 0   HeartDisease      319795 non-null  object \n",
      " 1   BMICategory       319795 non-null  object \n",
      " 2   Smoking           319795 non-null  object \n",
      " 3   AlcoholDrinking   319795 non-null  object \n",
      " 4   Stroke            319795 non-null  object \n",
      " 5   PhysicalHealth    319795 non-null  float64\n",
      " 6   MentalHealth      319795 non-null  float64\n",
      " 7   DiffWalking       319795 non-null  object \n",
      " 8   Sex               319795 non-null  object \n",
      " 9   AgeCategory       319795 non-null  object \n",
      " 10  Race              319795 non-null  object \n",
      " 11  Diabetic          319795 non-null  object \n",
      " 12  PhysicalActivity  319795 non-null  object \n",
      " 13  GenHealth         319795 non-null  object \n",
      " 14  SleepTime         319795 non-null  float64\n",
      " 15  Asthma            319795 non-null  object \n",
      " 16  KidneyDisease     319795 non-null  object \n",
      " 17  SkinCancer        319795 non-null  object \n",
      "dtypes: float64(3), object(15)\n",
      "memory usage: 43.9+ MB\n"
     ]
    }
   ],
   "source": [
    "df.info()"
   ]
  },
  {
   "cell_type": "code",
   "execution_count": 81,
   "metadata": {},
   "outputs": [
    {
     "data": {
      "text/plain": [
       "array([4, 1, 3, 2, 0])"
      ]
     },
     "execution_count": 81,
     "metadata": {},
     "output_type": "execute_result"
    }
   ],
   "source": [
    "df['GenHealth'].unique()"
   ]
  },
  {
   "cell_type": "markdown",
   "metadata": {},
   "source": [
    "## Checking Correlations - pearson"
   ]
  },
  {
   "cell_type": "code",
   "execution_count": 70,
   "metadata": {},
   "outputs": [
    {
     "data": {
      "text/html": [
       "<div>\n",
       "<style scoped>\n",
       "    .dataframe tbody tr th:only-of-type {\n",
       "        vertical-align: middle;\n",
       "    }\n",
       "\n",
       "    .dataframe tbody tr th {\n",
       "        vertical-align: top;\n",
       "    }\n",
       "\n",
       "    .dataframe thead th {\n",
       "        text-align: right;\n",
       "    }\n",
       "</style>\n",
       "<table border=\"1\" class=\"dataframe\">\n",
       "  <thead>\n",
       "    <tr style=\"text-align: right;\">\n",
       "      <th></th>\n",
       "      <th>BMI</th>\n",
       "      <th>PhysicalHealth</th>\n",
       "      <th>MentalHealth</th>\n",
       "      <th>SleepTime</th>\n",
       "    </tr>\n",
       "  </thead>\n",
       "  <tbody>\n",
       "    <tr>\n",
       "      <th>BMI</th>\n",
       "      <td>1.000000</td>\n",
       "      <td>0.109788</td>\n",
       "      <td>0.064131</td>\n",
       "      <td>-0.051822</td>\n",
       "    </tr>\n",
       "    <tr>\n",
       "      <th>PhysicalHealth</th>\n",
       "      <td>0.109788</td>\n",
       "      <td>1.000000</td>\n",
       "      <td>0.287987</td>\n",
       "      <td>-0.061387</td>\n",
       "    </tr>\n",
       "    <tr>\n",
       "      <th>MentalHealth</th>\n",
       "      <td>0.064131</td>\n",
       "      <td>0.287987</td>\n",
       "      <td>1.000000</td>\n",
       "      <td>-0.119717</td>\n",
       "    </tr>\n",
       "    <tr>\n",
       "      <th>SleepTime</th>\n",
       "      <td>-0.051822</td>\n",
       "      <td>-0.061387</td>\n",
       "      <td>-0.119717</td>\n",
       "      <td>1.000000</td>\n",
       "    </tr>\n",
       "  </tbody>\n",
       "</table>\n",
       "</div>"
      ],
      "text/plain": [
       "                     BMI  PhysicalHealth  MentalHealth  SleepTime\n",
       "BMI             1.000000        0.109788      0.064131  -0.051822\n",
       "PhysicalHealth  0.109788        1.000000      0.287987  -0.061387\n",
       "MentalHealth    0.064131        0.287987      1.000000  -0.119717\n",
       "SleepTime      -0.051822       -0.061387     -0.119717   1.000000"
      ]
     },
     "execution_count": 70,
     "metadata": {},
     "output_type": "execute_result"
    }
   ],
   "source": [
    "df.corr()"
   ]
  },
  {
   "cell_type": "code",
   "execution_count": 71,
   "metadata": {},
   "outputs": [
    {
     "data": {
      "text/plain": [
       "18078"
      ]
     },
     "execution_count": 71,
     "metadata": {},
     "output_type": "execute_result"
    }
   ],
   "source": [
    "df.duplicated().sum()"
   ]
  },
  {
   "cell_type": "markdown",
   "metadata": {},
   "source": [
    "## BMI Box plot"
   ]
  },
  {
   "cell_type": "code",
   "execution_count": 12,
   "metadata": {},
   "outputs": [
    {
     "ename": "KeyError",
     "evalue": "'BMI'",
     "output_type": "error",
     "traceback": [
      "\u001b[1;31m---------------------------------------------------------------------------\u001b[0m",
      "\u001b[1;31mKeyError\u001b[0m                                  Traceback (most recent call last)",
      "\u001b[1;32m~\\anaconda3\\lib\\site-packages\\pandas\\core\\indexes\\base.py\u001b[0m in \u001b[0;36mget_loc\u001b[1;34m(self, key, method, tolerance)\u001b[0m\n\u001b[0;32m   2894\u001b[0m             \u001b[1;32mtry\u001b[0m\u001b[1;33m:\u001b[0m\u001b[1;33m\u001b[0m\u001b[1;33m\u001b[0m\u001b[0m\n\u001b[1;32m-> 2895\u001b[1;33m                 \u001b[1;32mreturn\u001b[0m \u001b[0mself\u001b[0m\u001b[1;33m.\u001b[0m\u001b[0m_engine\u001b[0m\u001b[1;33m.\u001b[0m\u001b[0mget_loc\u001b[0m\u001b[1;33m(\u001b[0m\u001b[0mcasted_key\u001b[0m\u001b[1;33m)\u001b[0m\u001b[1;33m\u001b[0m\u001b[1;33m\u001b[0m\u001b[0m\n\u001b[0m\u001b[0;32m   2896\u001b[0m             \u001b[1;32mexcept\u001b[0m \u001b[0mKeyError\u001b[0m \u001b[1;32mas\u001b[0m \u001b[0merr\u001b[0m\u001b[1;33m:\u001b[0m\u001b[1;33m\u001b[0m\u001b[1;33m\u001b[0m\u001b[0m\n",
      "\u001b[1;32mpandas\\_libs\\index.pyx\u001b[0m in \u001b[0;36mpandas._libs.index.IndexEngine.get_loc\u001b[1;34m()\u001b[0m\n",
      "\u001b[1;32mpandas\\_libs\\index.pyx\u001b[0m in \u001b[0;36mpandas._libs.index.IndexEngine.get_loc\u001b[1;34m()\u001b[0m\n",
      "\u001b[1;32mpandas\\_libs\\hashtable_class_helper.pxi\u001b[0m in \u001b[0;36mpandas._libs.hashtable.PyObjectHashTable.get_item\u001b[1;34m()\u001b[0m\n",
      "\u001b[1;32mpandas\\_libs\\hashtable_class_helper.pxi\u001b[0m in \u001b[0;36mpandas._libs.hashtable.PyObjectHashTable.get_item\u001b[1;34m()\u001b[0m\n",
      "\u001b[1;31mKeyError\u001b[0m: 'BMI'",
      "\nThe above exception was the direct cause of the following exception:\n",
      "\u001b[1;31mKeyError\u001b[0m                                  Traceback (most recent call last)",
      "\u001b[1;32m<ipython-input-12-d3f0bb8582b1>\u001b[0m in \u001b[0;36m<module>\u001b[1;34m\u001b[0m\n\u001b[0;32m      1\u001b[0m \u001b[0mbins\u001b[0m \u001b[1;33m=\u001b[0m \u001b[1;33m[\u001b[0m\u001b[1;36m0\u001b[0m\u001b[1;33m,\u001b[0m \u001b[1;36m18.5\u001b[0m\u001b[1;33m,\u001b[0m \u001b[1;36m25\u001b[0m\u001b[1;33m,\u001b[0m \u001b[1;36m30\u001b[0m\u001b[1;33m,\u001b[0m \u001b[1;36m35\u001b[0m\u001b[1;33m,\u001b[0m \u001b[0mnp\u001b[0m\u001b[1;33m.\u001b[0m\u001b[0minf\u001b[0m\u001b[1;33m]\u001b[0m\u001b[1;33m\u001b[0m\u001b[1;33m\u001b[0m\u001b[0m\n\u001b[0;32m      2\u001b[0m \u001b[0mnames\u001b[0m \u001b[1;33m=\u001b[0m \u001b[1;33m[\u001b[0m\u001b[1;34m'Underweight (BMI < 18.5)'\u001b[0m\u001b[1;33m,\u001b[0m \u001b[1;34m'Normal weight (18.5 <= BMI < 25.0)'\u001b[0m\u001b[1;33m,\u001b[0m \u001b[1;34m'Overweight (25.0 <= BMI < 30.0)'\u001b[0m\u001b[1;33m,\u001b[0m \u001b[1;34m'Obese (30.0 <= BMI < 35.0)'\u001b[0m\u001b[1;33m,\u001b[0m \u001b[1;34m'Extremly Obese (BMI >= 35.0)'\u001b[0m\u001b[1;33m]\u001b[0m\u001b[1;33m\u001b[0m\u001b[1;33m\u001b[0m\u001b[0m\n\u001b[1;32m----> 3\u001b[1;33m \u001b[0mdf\u001b[0m\u001b[1;33m[\u001b[0m\u001b[1;34m'BMICategory'\u001b[0m\u001b[1;33m]\u001b[0m \u001b[1;33m=\u001b[0m \u001b[0mpd\u001b[0m\u001b[1;33m.\u001b[0m\u001b[0mcut\u001b[0m\u001b[1;33m(\u001b[0m\u001b[0mdf\u001b[0m\u001b[1;33m[\u001b[0m\u001b[1;34m'BMI'\u001b[0m\u001b[1;33m]\u001b[0m\u001b[1;33m,\u001b[0m \u001b[0mbins\u001b[0m\u001b[1;33m,\u001b[0m \u001b[0mlabels\u001b[0m\u001b[1;33m=\u001b[0m\u001b[0mnames\u001b[0m\u001b[1;33m)\u001b[0m\u001b[1;33m\u001b[0m\u001b[1;33m\u001b[0m\u001b[0m\n\u001b[0m\u001b[0;32m      4\u001b[0m \u001b[0mdf\u001b[0m\u001b[1;33m.\u001b[0m\u001b[0mdrop\u001b[0m\u001b[1;33m(\u001b[0m\u001b[1;34m'BMI'\u001b[0m\u001b[1;33m,\u001b[0m\u001b[0maxis\u001b[0m\u001b[1;33m=\u001b[0m\u001b[1;36m1\u001b[0m\u001b[1;33m,\u001b[0m\u001b[0minplace\u001b[0m\u001b[1;33m=\u001b[0m\u001b[1;32mTrue\u001b[0m\u001b[1;33m)\u001b[0m\u001b[1;33m\u001b[0m\u001b[1;33m\u001b[0m\u001b[0m\n",
      "\u001b[1;32m~\\anaconda3\\lib\\site-packages\\pandas\\core\\frame.py\u001b[0m in \u001b[0;36m__getitem__\u001b[1;34m(self, key)\u001b[0m\n\u001b[0;32m   2900\u001b[0m             \u001b[1;32mif\u001b[0m \u001b[0mself\u001b[0m\u001b[1;33m.\u001b[0m\u001b[0mcolumns\u001b[0m\u001b[1;33m.\u001b[0m\u001b[0mnlevels\u001b[0m \u001b[1;33m>\u001b[0m \u001b[1;36m1\u001b[0m\u001b[1;33m:\u001b[0m\u001b[1;33m\u001b[0m\u001b[1;33m\u001b[0m\u001b[0m\n\u001b[0;32m   2901\u001b[0m                 \u001b[1;32mreturn\u001b[0m \u001b[0mself\u001b[0m\u001b[1;33m.\u001b[0m\u001b[0m_getitem_multilevel\u001b[0m\u001b[1;33m(\u001b[0m\u001b[0mkey\u001b[0m\u001b[1;33m)\u001b[0m\u001b[1;33m\u001b[0m\u001b[1;33m\u001b[0m\u001b[0m\n\u001b[1;32m-> 2902\u001b[1;33m             \u001b[0mindexer\u001b[0m \u001b[1;33m=\u001b[0m \u001b[0mself\u001b[0m\u001b[1;33m.\u001b[0m\u001b[0mcolumns\u001b[0m\u001b[1;33m.\u001b[0m\u001b[0mget_loc\u001b[0m\u001b[1;33m(\u001b[0m\u001b[0mkey\u001b[0m\u001b[1;33m)\u001b[0m\u001b[1;33m\u001b[0m\u001b[1;33m\u001b[0m\u001b[0m\n\u001b[0m\u001b[0;32m   2903\u001b[0m             \u001b[1;32mif\u001b[0m \u001b[0mis_integer\u001b[0m\u001b[1;33m(\u001b[0m\u001b[0mindexer\u001b[0m\u001b[1;33m)\u001b[0m\u001b[1;33m:\u001b[0m\u001b[1;33m\u001b[0m\u001b[1;33m\u001b[0m\u001b[0m\n\u001b[0;32m   2904\u001b[0m                 \u001b[0mindexer\u001b[0m \u001b[1;33m=\u001b[0m \u001b[1;33m[\u001b[0m\u001b[0mindexer\u001b[0m\u001b[1;33m]\u001b[0m\u001b[1;33m\u001b[0m\u001b[1;33m\u001b[0m\u001b[0m\n",
      "\u001b[1;32m~\\anaconda3\\lib\\site-packages\\pandas\\core\\indexes\\base.py\u001b[0m in \u001b[0;36mget_loc\u001b[1;34m(self, key, method, tolerance)\u001b[0m\n\u001b[0;32m   2895\u001b[0m                 \u001b[1;32mreturn\u001b[0m \u001b[0mself\u001b[0m\u001b[1;33m.\u001b[0m\u001b[0m_engine\u001b[0m\u001b[1;33m.\u001b[0m\u001b[0mget_loc\u001b[0m\u001b[1;33m(\u001b[0m\u001b[0mcasted_key\u001b[0m\u001b[1;33m)\u001b[0m\u001b[1;33m\u001b[0m\u001b[1;33m\u001b[0m\u001b[0m\n\u001b[0;32m   2896\u001b[0m             \u001b[1;32mexcept\u001b[0m \u001b[0mKeyError\u001b[0m \u001b[1;32mas\u001b[0m \u001b[0merr\u001b[0m\u001b[1;33m:\u001b[0m\u001b[1;33m\u001b[0m\u001b[1;33m\u001b[0m\u001b[0m\n\u001b[1;32m-> 2897\u001b[1;33m                 \u001b[1;32mraise\u001b[0m \u001b[0mKeyError\u001b[0m\u001b[1;33m(\u001b[0m\u001b[0mkey\u001b[0m\u001b[1;33m)\u001b[0m \u001b[1;32mfrom\u001b[0m \u001b[0merr\u001b[0m\u001b[1;33m\u001b[0m\u001b[1;33m\u001b[0m\u001b[0m\n\u001b[0m\u001b[0;32m   2898\u001b[0m \u001b[1;33m\u001b[0m\u001b[0m\n\u001b[0;32m   2899\u001b[0m         \u001b[1;32mif\u001b[0m \u001b[0mtolerance\u001b[0m \u001b[1;32mis\u001b[0m \u001b[1;32mnot\u001b[0m \u001b[1;32mNone\u001b[0m\u001b[1;33m:\u001b[0m\u001b[1;33m\u001b[0m\u001b[1;33m\u001b[0m\u001b[0m\n",
      "\u001b[1;31mKeyError\u001b[0m: 'BMI'"
     ]
    }
   ],
   "source": [
    "bins = [0, 18.5, 25, 30, 35, np.inf]\n",
    "names = ['Underweight (BMI < 18.5)', 'Normal weight (18.5 <= BMI < 25.0)', 'Overweight (25.0 <= BMI < 30.0)', 'Obese (30.0 <= BMI < 35.0)', 'Extremly Obese (BMI >= 35.0)']\n",
    "df['BMICategory'] = pd.cut(df['BMI'], bins, labels=names)\n",
    "df.drop('BMI',axis=1,inplace=True)"
   ]
  },
  {
   "cell_type": "code",
   "execution_count": 13,
   "metadata": {},
   "outputs": [
    {
     "ename": "AttributeError",
     "evalue": "'DataFrame' object has no attribute 'BMI'",
     "output_type": "error",
     "traceback": [
      "\u001b[1;31m---------------------------------------------------------------------------\u001b[0m",
      "\u001b[1;31mAttributeError\u001b[0m                            Traceback (most recent call last)",
      "\u001b[1;32m<ipython-input-13-d18e2817e386>\u001b[0m in \u001b[0;36m<module>\u001b[1;34m\u001b[0m\n\u001b[0;32m      1\u001b[0m \u001b[0mplt\u001b[0m\u001b[1;33m.\u001b[0m\u001b[0mfigure\u001b[0m\u001b[1;33m(\u001b[0m\u001b[0mfigsize\u001b[0m\u001b[1;33m=\u001b[0m\u001b[1;33m(\u001b[0m\u001b[1;36m12\u001b[0m\u001b[1;33m,\u001b[0m\u001b[1;36m8\u001b[0m\u001b[1;33m)\u001b[0m\u001b[1;33m)\u001b[0m\u001b[1;33m\u001b[0m\u001b[1;33m\u001b[0m\u001b[0m\n\u001b[1;32m----> 2\u001b[1;33m \u001b[0msns\u001b[0m\u001b[1;33m.\u001b[0m\u001b[0mboxenplot\u001b[0m\u001b[1;33m(\u001b[0m\u001b[0mx\u001b[0m\u001b[1;33m=\u001b[0m\u001b[0mdf\u001b[0m\u001b[1;33m.\u001b[0m\u001b[0mBMI\u001b[0m\u001b[1;33m,\u001b[0m \u001b[0mpalette\u001b[0m\u001b[1;33m=\u001b[0m\u001b[1;34m'mako'\u001b[0m\u001b[1;33m)\u001b[0m\u001b[1;33m\u001b[0m\u001b[1;33m\u001b[0m\u001b[0m\n\u001b[0m\u001b[0;32m      3\u001b[0m \u001b[0mplt\u001b[0m\u001b[1;33m.\u001b[0m\u001b[0mshow\u001b[0m\u001b[1;33m(\u001b[0m\u001b[1;33m)\u001b[0m\u001b[1;33m\u001b[0m\u001b[1;33m\u001b[0m\u001b[0m\n",
      "\u001b[1;32m~\\anaconda3\\lib\\site-packages\\pandas\\core\\generic.py\u001b[0m in \u001b[0;36m__getattr__\u001b[1;34m(self, name)\u001b[0m\n\u001b[0;32m   5137\u001b[0m             \u001b[1;32mif\u001b[0m \u001b[0mself\u001b[0m\u001b[1;33m.\u001b[0m\u001b[0m_info_axis\u001b[0m\u001b[1;33m.\u001b[0m\u001b[0m_can_hold_identifiers_and_holds_name\u001b[0m\u001b[1;33m(\u001b[0m\u001b[0mname\u001b[0m\u001b[1;33m)\u001b[0m\u001b[1;33m:\u001b[0m\u001b[1;33m\u001b[0m\u001b[1;33m\u001b[0m\u001b[0m\n\u001b[0;32m   5138\u001b[0m                 \u001b[1;32mreturn\u001b[0m \u001b[0mself\u001b[0m\u001b[1;33m[\u001b[0m\u001b[0mname\u001b[0m\u001b[1;33m]\u001b[0m\u001b[1;33m\u001b[0m\u001b[1;33m\u001b[0m\u001b[0m\n\u001b[1;32m-> 5139\u001b[1;33m             \u001b[1;32mreturn\u001b[0m \u001b[0mobject\u001b[0m\u001b[1;33m.\u001b[0m\u001b[0m__getattribute__\u001b[0m\u001b[1;33m(\u001b[0m\u001b[0mself\u001b[0m\u001b[1;33m,\u001b[0m \u001b[0mname\u001b[0m\u001b[1;33m)\u001b[0m\u001b[1;33m\u001b[0m\u001b[1;33m\u001b[0m\u001b[0m\n\u001b[0m\u001b[0;32m   5140\u001b[0m \u001b[1;33m\u001b[0m\u001b[0m\n\u001b[0;32m   5141\u001b[0m     \u001b[1;32mdef\u001b[0m \u001b[0m__setattr__\u001b[0m\u001b[1;33m(\u001b[0m\u001b[0mself\u001b[0m\u001b[1;33m,\u001b[0m \u001b[0mname\u001b[0m\u001b[1;33m:\u001b[0m \u001b[0mstr\u001b[0m\u001b[1;33m,\u001b[0m \u001b[0mvalue\u001b[0m\u001b[1;33m)\u001b[0m \u001b[1;33m->\u001b[0m \u001b[1;32mNone\u001b[0m\u001b[1;33m:\u001b[0m\u001b[1;33m\u001b[0m\u001b[1;33m\u001b[0m\u001b[0m\n",
      "\u001b[1;31mAttributeError\u001b[0m: 'DataFrame' object has no attribute 'BMI'"
     ]
    },
    {
     "data": {
      "text/plain": [
       "<Figure size 864x576 with 0 Axes>"
      ]
     },
     "metadata": {},
     "output_type": "display_data"
    }
   ],
   "source": [
    "plt.figure(figsize=(12,8))\n",
    "sns.boxenplot(x=df.BMI, palette='mako')\n",
    "plt.show()"
   ]
  },
  {
   "cell_type": "code",
   "execution_count": 82,
   "metadata": {},
   "outputs": [
    {
     "data": {
      "text/html": [
       "<div>\n",
       "<style scoped>\n",
       "    .dataframe tbody tr th:only-of-type {\n",
       "        vertical-align: middle;\n",
       "    }\n",
       "\n",
       "    .dataframe tbody tr th {\n",
       "        vertical-align: top;\n",
       "    }\n",
       "\n",
       "    .dataframe thead th {\n",
       "        text-align: right;\n",
       "    }\n",
       "</style>\n",
       "<table border=\"1\" class=\"dataframe\">\n",
       "  <thead>\n",
       "    <tr style=\"text-align: right;\">\n",
       "      <th></th>\n",
       "      <th>PhysicalHealth</th>\n",
       "      <th>MentalHealth</th>\n",
       "      <th>AgeCategory</th>\n",
       "      <th>SleepTime</th>\n",
       "      <th>BMICategory</th>\n",
       "      <th>Smoking_No</th>\n",
       "      <th>Smoking_Yes</th>\n",
       "      <th>AlcoholDrinking_No</th>\n",
       "      <th>AlcoholDrinking_Yes</th>\n",
       "      <th>Stroke_No</th>\n",
       "      <th>...</th>\n",
       "      <th>GenHealth_Fair</th>\n",
       "      <th>GenHealth_Good</th>\n",
       "      <th>GenHealth_Poor</th>\n",
       "      <th>GenHealth_Very good</th>\n",
       "      <th>Asthma_No</th>\n",
       "      <th>Asthma_Yes</th>\n",
       "      <th>KidneyDisease_No</th>\n",
       "      <th>KidneyDisease_Yes</th>\n",
       "      <th>SkinCancer_No</th>\n",
       "      <th>SkinCancer_Yes</th>\n",
       "    </tr>\n",
       "  </thead>\n",
       "  <tbody>\n",
       "    <tr>\n",
       "      <th>0</th>\n",
       "      <td>3.0</td>\n",
       "      <td>30.0</td>\n",
       "      <td>7</td>\n",
       "      <td>5.0</td>\n",
       "      <td>4</td>\n",
       "      <td>0</td>\n",
       "      <td>1</td>\n",
       "      <td>1</td>\n",
       "      <td>0</td>\n",
       "      <td>1</td>\n",
       "      <td>...</td>\n",
       "      <td>0</td>\n",
       "      <td>0</td>\n",
       "      <td>0</td>\n",
       "      <td>1</td>\n",
       "      <td>0</td>\n",
       "      <td>1</td>\n",
       "      <td>1</td>\n",
       "      <td>0</td>\n",
       "      <td>0</td>\n",
       "      <td>1</td>\n",
       "    </tr>\n",
       "    <tr>\n",
       "      <th>1</th>\n",
       "      <td>0.0</td>\n",
       "      <td>0.0</td>\n",
       "      <td>12</td>\n",
       "      <td>7.0</td>\n",
       "      <td>1</td>\n",
       "      <td>1</td>\n",
       "      <td>0</td>\n",
       "      <td>1</td>\n",
       "      <td>0</td>\n",
       "      <td>0</td>\n",
       "      <td>...</td>\n",
       "      <td>0</td>\n",
       "      <td>0</td>\n",
       "      <td>0</td>\n",
       "      <td>1</td>\n",
       "      <td>1</td>\n",
       "      <td>0</td>\n",
       "      <td>1</td>\n",
       "      <td>0</td>\n",
       "      <td>1</td>\n",
       "      <td>0</td>\n",
       "    </tr>\n",
       "    <tr>\n",
       "      <th>2</th>\n",
       "      <td>20.0</td>\n",
       "      <td>30.0</td>\n",
       "      <td>9</td>\n",
       "      <td>8.0</td>\n",
       "      <td>3</td>\n",
       "      <td>0</td>\n",
       "      <td>1</td>\n",
       "      <td>1</td>\n",
       "      <td>0</td>\n",
       "      <td>1</td>\n",
       "      <td>...</td>\n",
       "      <td>1</td>\n",
       "      <td>0</td>\n",
       "      <td>0</td>\n",
       "      <td>0</td>\n",
       "      <td>0</td>\n",
       "      <td>1</td>\n",
       "      <td>1</td>\n",
       "      <td>0</td>\n",
       "      <td>1</td>\n",
       "      <td>0</td>\n",
       "    </tr>\n",
       "    <tr>\n",
       "      <th>3</th>\n",
       "      <td>0.0</td>\n",
       "      <td>0.0</td>\n",
       "      <td>11</td>\n",
       "      <td>6.0</td>\n",
       "      <td>1</td>\n",
       "      <td>1</td>\n",
       "      <td>0</td>\n",
       "      <td>1</td>\n",
       "      <td>0</td>\n",
       "      <td>1</td>\n",
       "      <td>...</td>\n",
       "      <td>0</td>\n",
       "      <td>1</td>\n",
       "      <td>0</td>\n",
       "      <td>0</td>\n",
       "      <td>1</td>\n",
       "      <td>0</td>\n",
       "      <td>1</td>\n",
       "      <td>0</td>\n",
       "      <td>0</td>\n",
       "      <td>1</td>\n",
       "    </tr>\n",
       "    <tr>\n",
       "      <th>4</th>\n",
       "      <td>28.0</td>\n",
       "      <td>0.0</td>\n",
       "      <td>4</td>\n",
       "      <td>8.0</td>\n",
       "      <td>1</td>\n",
       "      <td>1</td>\n",
       "      <td>0</td>\n",
       "      <td>1</td>\n",
       "      <td>0</td>\n",
       "      <td>1</td>\n",
       "      <td>...</td>\n",
       "      <td>0</td>\n",
       "      <td>0</td>\n",
       "      <td>0</td>\n",
       "      <td>1</td>\n",
       "      <td>1</td>\n",
       "      <td>0</td>\n",
       "      <td>1</td>\n",
       "      <td>0</td>\n",
       "      <td>1</td>\n",
       "      <td>0</td>\n",
       "    </tr>\n",
       "    <tr>\n",
       "      <th>5</th>\n",
       "      <td>6.0</td>\n",
       "      <td>0.0</td>\n",
       "      <td>11</td>\n",
       "      <td>12.0</td>\n",
       "      <td>3</td>\n",
       "      <td>0</td>\n",
       "      <td>1</td>\n",
       "      <td>1</td>\n",
       "      <td>0</td>\n",
       "      <td>1</td>\n",
       "      <td>...</td>\n",
       "      <td>1</td>\n",
       "      <td>0</td>\n",
       "      <td>0</td>\n",
       "      <td>0</td>\n",
       "      <td>1</td>\n",
       "      <td>0</td>\n",
       "      <td>1</td>\n",
       "      <td>0</td>\n",
       "      <td>1</td>\n",
       "      <td>0</td>\n",
       "    </tr>\n",
       "    <tr>\n",
       "      <th>6</th>\n",
       "      <td>15.0</td>\n",
       "      <td>0.0</td>\n",
       "      <td>10</td>\n",
       "      <td>4.0</td>\n",
       "      <td>1</td>\n",
       "      <td>1</td>\n",
       "      <td>0</td>\n",
       "      <td>1</td>\n",
       "      <td>0</td>\n",
       "      <td>1</td>\n",
       "      <td>...</td>\n",
       "      <td>1</td>\n",
       "      <td>0</td>\n",
       "      <td>0</td>\n",
       "      <td>0</td>\n",
       "      <td>0</td>\n",
       "      <td>1</td>\n",
       "      <td>1</td>\n",
       "      <td>0</td>\n",
       "      <td>0</td>\n",
       "      <td>1</td>\n",
       "    </tr>\n",
       "    <tr>\n",
       "      <th>7</th>\n",
       "      <td>5.0</td>\n",
       "      <td>0.0</td>\n",
       "      <td>12</td>\n",
       "      <td>9.0</td>\n",
       "      <td>2</td>\n",
       "      <td>0</td>\n",
       "      <td>1</td>\n",
       "      <td>1</td>\n",
       "      <td>0</td>\n",
       "      <td>1</td>\n",
       "      <td>...</td>\n",
       "      <td>0</td>\n",
       "      <td>1</td>\n",
       "      <td>0</td>\n",
       "      <td>0</td>\n",
       "      <td>0</td>\n",
       "      <td>1</td>\n",
       "      <td>1</td>\n",
       "      <td>0</td>\n",
       "      <td>1</td>\n",
       "      <td>0</td>\n",
       "    </tr>\n",
       "    <tr>\n",
       "      <th>8</th>\n",
       "      <td>0.0</td>\n",
       "      <td>0.0</td>\n",
       "      <td>12</td>\n",
       "      <td>5.0</td>\n",
       "      <td>3</td>\n",
       "      <td>1</td>\n",
       "      <td>0</td>\n",
       "      <td>1</td>\n",
       "      <td>0</td>\n",
       "      <td>1</td>\n",
       "      <td>...</td>\n",
       "      <td>1</td>\n",
       "      <td>0</td>\n",
       "      <td>0</td>\n",
       "      <td>0</td>\n",
       "      <td>1</td>\n",
       "      <td>0</td>\n",
       "      <td>0</td>\n",
       "      <td>1</td>\n",
       "      <td>1</td>\n",
       "      <td>0</td>\n",
       "    </tr>\n",
       "    <tr>\n",
       "      <th>9</th>\n",
       "      <td>0.0</td>\n",
       "      <td>0.0</td>\n",
       "      <td>9</td>\n",
       "      <td>10.0</td>\n",
       "      <td>0</td>\n",
       "      <td>1</td>\n",
       "      <td>0</td>\n",
       "      <td>1</td>\n",
       "      <td>0</td>\n",
       "      <td>1</td>\n",
       "      <td>...</td>\n",
       "      <td>0</td>\n",
       "      <td>1</td>\n",
       "      <td>0</td>\n",
       "      <td>0</td>\n",
       "      <td>1</td>\n",
       "      <td>0</td>\n",
       "      <td>1</td>\n",
       "      <td>0</td>\n",
       "      <td>1</td>\n",
       "      <td>0</td>\n",
       "    </tr>\n",
       "    <tr>\n",
       "      <th>10</th>\n",
       "      <td>30.0</td>\n",
       "      <td>0.0</td>\n",
       "      <td>8</td>\n",
       "      <td>15.0</td>\n",
       "      <td>2</td>\n",
       "      <td>0</td>\n",
       "      <td>1</td>\n",
       "      <td>1</td>\n",
       "      <td>0</td>\n",
       "      <td>1</td>\n",
       "      <td>...</td>\n",
       "      <td>0</td>\n",
       "      <td>0</td>\n",
       "      <td>1</td>\n",
       "      <td>0</td>\n",
       "      <td>0</td>\n",
       "      <td>1</td>\n",
       "      <td>1</td>\n",
       "      <td>0</td>\n",
       "      <td>1</td>\n",
       "      <td>0</td>\n",
       "    </tr>\n",
       "    <tr>\n",
       "      <th>11</th>\n",
       "      <td>0.0</td>\n",
       "      <td>0.0</td>\n",
       "      <td>7</td>\n",
       "      <td>5.0</td>\n",
       "      <td>3</td>\n",
       "      <td>0</td>\n",
       "      <td>1</td>\n",
       "      <td>1</td>\n",
       "      <td>0</td>\n",
       "      <td>1</td>\n",
       "      <td>...</td>\n",
       "      <td>0</td>\n",
       "      <td>0</td>\n",
       "      <td>0</td>\n",
       "      <td>1</td>\n",
       "      <td>1</td>\n",
       "      <td>0</td>\n",
       "      <td>1</td>\n",
       "      <td>0</td>\n",
       "      <td>1</td>\n",
       "      <td>0</td>\n",
       "    </tr>\n",
       "    <tr>\n",
       "      <th>12</th>\n",
       "      <td>0.0</td>\n",
       "      <td>0.0</td>\n",
       "      <td>11</td>\n",
       "      <td>8.0</td>\n",
       "      <td>3</td>\n",
       "      <td>0</td>\n",
       "      <td>1</td>\n",
       "      <td>1</td>\n",
       "      <td>0</td>\n",
       "      <td>1</td>\n",
       "      <td>...</td>\n",
       "      <td>0</td>\n",
       "      <td>0</td>\n",
       "      <td>0</td>\n",
       "      <td>1</td>\n",
       "      <td>1</td>\n",
       "      <td>0</td>\n",
       "      <td>1</td>\n",
       "      <td>0</td>\n",
       "      <td>1</td>\n",
       "      <td>0</td>\n",
       "    </tr>\n",
       "    <tr>\n",
       "      <th>13</th>\n",
       "      <td>7.0</td>\n",
       "      <td>0.0</td>\n",
       "      <td>12</td>\n",
       "      <td>7.0</td>\n",
       "      <td>3</td>\n",
       "      <td>1</td>\n",
       "      <td>0</td>\n",
       "      <td>1</td>\n",
       "      <td>0</td>\n",
       "      <td>1</td>\n",
       "      <td>...</td>\n",
       "      <td>0</td>\n",
       "      <td>1</td>\n",
       "      <td>0</td>\n",
       "      <td>0</td>\n",
       "      <td>1</td>\n",
       "      <td>0</td>\n",
       "      <td>1</td>\n",
       "      <td>0</td>\n",
       "      <td>1</td>\n",
       "      <td>0</td>\n",
       "    </tr>\n",
       "    <tr>\n",
       "      <th>14</th>\n",
       "      <td>0.0</td>\n",
       "      <td>30.0</td>\n",
       "      <td>8</td>\n",
       "      <td>5.0</td>\n",
       "      <td>3</td>\n",
       "      <td>0</td>\n",
       "      <td>1</td>\n",
       "      <td>1</td>\n",
       "      <td>0</td>\n",
       "      <td>1</td>\n",
       "      <td>...</td>\n",
       "      <td>0</td>\n",
       "      <td>1</td>\n",
       "      <td>0</td>\n",
       "      <td>0</td>\n",
       "      <td>1</td>\n",
       "      <td>0</td>\n",
       "      <td>1</td>\n",
       "      <td>0</td>\n",
       "      <td>1</td>\n",
       "      <td>0</td>\n",
       "    </tr>\n",
       "    <tr>\n",
       "      <th>15</th>\n",
       "      <td>1.0</td>\n",
       "      <td>0.0</td>\n",
       "      <td>6</td>\n",
       "      <td>6.0</td>\n",
       "      <td>3</td>\n",
       "      <td>1</td>\n",
       "      <td>0</td>\n",
       "      <td>1</td>\n",
       "      <td>0</td>\n",
       "      <td>1</td>\n",
       "      <td>...</td>\n",
       "      <td>0</td>\n",
       "      <td>0</td>\n",
       "      <td>0</td>\n",
       "      <td>1</td>\n",
       "      <td>1</td>\n",
       "      <td>0</td>\n",
       "      <td>1</td>\n",
       "      <td>0</td>\n",
       "      <td>1</td>\n",
       "      <td>0</td>\n",
       "    </tr>\n",
       "    <tr>\n",
       "      <th>16</th>\n",
       "      <td>5.0</td>\n",
       "      <td>2.0</td>\n",
       "      <td>10</td>\n",
       "      <td>10.0</td>\n",
       "      <td>3</td>\n",
       "      <td>1</td>\n",
       "      <td>0</td>\n",
       "      <td>1</td>\n",
       "      <td>0</td>\n",
       "      <td>1</td>\n",
       "      <td>...</td>\n",
       "      <td>0</td>\n",
       "      <td>0</td>\n",
       "      <td>0</td>\n",
       "      <td>1</td>\n",
       "      <td>1</td>\n",
       "      <td>0</td>\n",
       "      <td>1</td>\n",
       "      <td>0</td>\n",
       "      <td>1</td>\n",
       "      <td>0</td>\n",
       "    </tr>\n",
       "    <tr>\n",
       "      <th>17</th>\n",
       "      <td>0.0</td>\n",
       "      <td>30.0</td>\n",
       "      <td>10</td>\n",
       "      <td>8.0</td>\n",
       "      <td>1</td>\n",
       "      <td>0</td>\n",
       "      <td>1</td>\n",
       "      <td>1</td>\n",
       "      <td>0</td>\n",
       "      <td>1</td>\n",
       "      <td>...</td>\n",
       "      <td>0</td>\n",
       "      <td>1</td>\n",
       "      <td>0</td>\n",
       "      <td>0</td>\n",
       "      <td>1</td>\n",
       "      <td>0</td>\n",
       "      <td>1</td>\n",
       "      <td>0</td>\n",
       "      <td>1</td>\n",
       "      <td>0</td>\n",
       "    </tr>\n",
       "    <tr>\n",
       "      <th>18</th>\n",
       "      <td>0.0</td>\n",
       "      <td>0.0</td>\n",
       "      <td>11</td>\n",
       "      <td>5.0</td>\n",
       "      <td>3</td>\n",
       "      <td>0</td>\n",
       "      <td>1</td>\n",
       "      <td>1</td>\n",
       "      <td>0</td>\n",
       "      <td>1</td>\n",
       "      <td>...</td>\n",
       "      <td>1</td>\n",
       "      <td>0</td>\n",
       "      <td>0</td>\n",
       "      <td>0</td>\n",
       "      <td>1</td>\n",
       "      <td>0</td>\n",
       "      <td>0</td>\n",
       "      <td>1</td>\n",
       "      <td>1</td>\n",
       "      <td>0</td>\n",
       "    </tr>\n",
       "    <tr>\n",
       "      <th>19</th>\n",
       "      <td>0.0</td>\n",
       "      <td>0.0</td>\n",
       "      <td>12</td>\n",
       "      <td>8.0</td>\n",
       "      <td>4</td>\n",
       "      <td>1</td>\n",
       "      <td>0</td>\n",
       "      <td>1</td>\n",
       "      <td>0</td>\n",
       "      <td>1</td>\n",
       "      <td>...</td>\n",
       "      <td>0</td>\n",
       "      <td>0</td>\n",
       "      <td>0</td>\n",
       "      <td>0</td>\n",
       "      <td>1</td>\n",
       "      <td>0</td>\n",
       "      <td>1</td>\n",
       "      <td>0</td>\n",
       "      <td>0</td>\n",
       "      <td>1</td>\n",
       "    </tr>\n",
       "  </tbody>\n",
       "</table>\n",
       "<p>20 rows × 38 columns</p>\n",
       "</div>"
      ],
      "text/plain": [
       "    PhysicalHealth  MentalHealth  AgeCategory  SleepTime  BMICategory  \\\n",
       "0              3.0          30.0            7        5.0            4   \n",
       "1              0.0           0.0           12        7.0            1   \n",
       "2             20.0          30.0            9        8.0            3   \n",
       "3              0.0           0.0           11        6.0            1   \n",
       "4             28.0           0.0            4        8.0            1   \n",
       "5              6.0           0.0           11       12.0            3   \n",
       "6             15.0           0.0           10        4.0            1   \n",
       "7              5.0           0.0           12        9.0            2   \n",
       "8              0.0           0.0           12        5.0            3   \n",
       "9              0.0           0.0            9       10.0            0   \n",
       "10            30.0           0.0            8       15.0            2   \n",
       "11             0.0           0.0            7        5.0            3   \n",
       "12             0.0           0.0           11        8.0            3   \n",
       "13             7.0           0.0           12        7.0            3   \n",
       "14             0.0          30.0            8        5.0            3   \n",
       "15             1.0           0.0            6        6.0            3   \n",
       "16             5.0           2.0           10       10.0            3   \n",
       "17             0.0          30.0           10        8.0            1   \n",
       "18             0.0           0.0           11        5.0            3   \n",
       "19             0.0           0.0           12        8.0            4   \n",
       "\n",
       "    Smoking_No  Smoking_Yes  AlcoholDrinking_No  AlcoholDrinking_Yes  \\\n",
       "0            0            1                   1                    0   \n",
       "1            1            0                   1                    0   \n",
       "2            0            1                   1                    0   \n",
       "3            1            0                   1                    0   \n",
       "4            1            0                   1                    0   \n",
       "5            0            1                   1                    0   \n",
       "6            1            0                   1                    0   \n",
       "7            0            1                   1                    0   \n",
       "8            1            0                   1                    0   \n",
       "9            1            0                   1                    0   \n",
       "10           0            1                   1                    0   \n",
       "11           0            1                   1                    0   \n",
       "12           0            1                   1                    0   \n",
       "13           1            0                   1                    0   \n",
       "14           0            1                   1                    0   \n",
       "15           1            0                   1                    0   \n",
       "16           1            0                   1                    0   \n",
       "17           0            1                   1                    0   \n",
       "18           0            1                   1                    0   \n",
       "19           1            0                   1                    0   \n",
       "\n",
       "    Stroke_No  ...  GenHealth_Fair  GenHealth_Good  GenHealth_Poor  \\\n",
       "0           1  ...               0               0               0   \n",
       "1           0  ...               0               0               0   \n",
       "2           1  ...               1               0               0   \n",
       "3           1  ...               0               1               0   \n",
       "4           1  ...               0               0               0   \n",
       "5           1  ...               1               0               0   \n",
       "6           1  ...               1               0               0   \n",
       "7           1  ...               0               1               0   \n",
       "8           1  ...               1               0               0   \n",
       "9           1  ...               0               1               0   \n",
       "10          1  ...               0               0               1   \n",
       "11          1  ...               0               0               0   \n",
       "12          1  ...               0               0               0   \n",
       "13          1  ...               0               1               0   \n",
       "14          1  ...               0               1               0   \n",
       "15          1  ...               0               0               0   \n",
       "16          1  ...               0               0               0   \n",
       "17          1  ...               0               1               0   \n",
       "18          1  ...               1               0               0   \n",
       "19          1  ...               0               0               0   \n",
       "\n",
       "    GenHealth_Very good  Asthma_No  Asthma_Yes  KidneyDisease_No  \\\n",
       "0                     1          0           1                 1   \n",
       "1                     1          1           0                 1   \n",
       "2                     0          0           1                 1   \n",
       "3                     0          1           0                 1   \n",
       "4                     1          1           0                 1   \n",
       "5                     0          1           0                 1   \n",
       "6                     0          0           1                 1   \n",
       "7                     0          0           1                 1   \n",
       "8                     0          1           0                 0   \n",
       "9                     0          1           0                 1   \n",
       "10                    0          0           1                 1   \n",
       "11                    1          1           0                 1   \n",
       "12                    1          1           0                 1   \n",
       "13                    0          1           0                 1   \n",
       "14                    0          1           0                 1   \n",
       "15                    1          1           0                 1   \n",
       "16                    1          1           0                 1   \n",
       "17                    0          1           0                 1   \n",
       "18                    0          1           0                 0   \n",
       "19                    0          1           0                 1   \n",
       "\n",
       "    KidneyDisease_Yes  SkinCancer_No  SkinCancer_Yes  \n",
       "0                   0              0               1  \n",
       "1                   0              1               0  \n",
       "2                   0              1               0  \n",
       "3                   0              0               1  \n",
       "4                   0              1               0  \n",
       "5                   0              1               0  \n",
       "6                   0              0               1  \n",
       "7                   0              1               0  \n",
       "8                   1              1               0  \n",
       "9                   0              1               0  \n",
       "10                  0              1               0  \n",
       "11                  0              1               0  \n",
       "12                  0              1               0  \n",
       "13                  0              1               0  \n",
       "14                  0              1               0  \n",
       "15                  0              1               0  \n",
       "16                  0              1               0  \n",
       "17                  0              1               0  \n",
       "18                  1              1               0  \n",
       "19                  0              0               1  \n",
       "\n",
       "[20 rows x 38 columns]"
      ]
     },
     "execution_count": 82,
     "metadata": {},
     "output_type": "execute_result"
    }
   ],
   "source": [
    "X[:20]"
   ]
  },
  {
   "cell_type": "markdown",
   "metadata": {},
   "source": [
    "## Label Encoding"
   ]
  },
  {
   "cell_type": "code",
   "execution_count": 55,
   "metadata": {},
   "outputs": [],
   "source": [
    "le=preprocessing.LabelEncoder()"
   ]
  },
  {
   "cell_type": "code",
   "execution_count": 56,
   "metadata": {},
   "outputs": [],
   "source": [
    "order_cols = [\"BMICategory\", \"AgeCategory\", \"HeartDisease\"] #ordinal columns\n",
    "no_order_cols = [ \"Smoking\", \"AlcoholDrinking\", \"Stroke\", \"DiffWalking\",\n",
    "            \"Sex\", \"Race\", \"Diabetic\", \"PhysicalActivity\",\n",
    "            \"GenHealth\", \"Asthma\", \"KidneyDisease\", \"SkinCancer\"] #non - ordinal columns\n",
    "\n",
    "# Label encoding\n",
    "for col in order_cols:\n",
    "    df[col] = le.fit_transform(df[col])\n"
   ]
  },
  {
   "cell_type": "markdown",
   "metadata": {},
   "source": [
    "## One hot encoding using pd.get_dummies"
   ]
  },
  {
   "cell_type": "code",
   "execution_count": 11,
   "metadata": {},
   "outputs": [],
   "source": [
    "for col in no_order_cols:\n",
    "    dummy_col = pd.get_dummies(df[col], prefix=col)\n",
    "    df = pd.concat([df, dummy_col], axis=1)\n",
    "    del df[col]"
   ]
  },
  {
   "cell_type": "code",
   "execution_count": 66,
   "metadata": {},
   "outputs": [
    {
     "data": {
      "text/html": [
       "<div>\n",
       "<style scoped>\n",
       "    .dataframe tbody tr th:only-of-type {\n",
       "        vertical-align: middle;\n",
       "    }\n",
       "\n",
       "    .dataframe tbody tr th {\n",
       "        vertical-align: top;\n",
       "    }\n",
       "\n",
       "    .dataframe thead th {\n",
       "        text-align: right;\n",
       "    }\n",
       "</style>\n",
       "<table border=\"1\" class=\"dataframe\">\n",
       "  <thead>\n",
       "    <tr style=\"text-align: right;\">\n",
       "      <th></th>\n",
       "      <th>HeartDisease</th>\n",
       "      <th>PhysicalHealth</th>\n",
       "      <th>MentalHealth</th>\n",
       "      <th>AgeCategory</th>\n",
       "      <th>SleepTime</th>\n",
       "      <th>BMICategory</th>\n",
       "      <th>Smoking_No</th>\n",
       "      <th>Smoking_Yes</th>\n",
       "      <th>AlcoholDrinking_No</th>\n",
       "      <th>AlcoholDrinking_Yes</th>\n",
       "      <th>...</th>\n",
       "      <th>GenHealth_Fair</th>\n",
       "      <th>GenHealth_Good</th>\n",
       "      <th>GenHealth_Poor</th>\n",
       "      <th>GenHealth_Very good</th>\n",
       "      <th>Asthma_No</th>\n",
       "      <th>Asthma_Yes</th>\n",
       "      <th>KidneyDisease_No</th>\n",
       "      <th>KidneyDisease_Yes</th>\n",
       "      <th>SkinCancer_No</th>\n",
       "      <th>SkinCancer_Yes</th>\n",
       "    </tr>\n",
       "  </thead>\n",
       "  <tbody>\n",
       "    <tr>\n",
       "      <th>0</th>\n",
       "      <td>0</td>\n",
       "      <td>3.0</td>\n",
       "      <td>30.0</td>\n",
       "      <td>7</td>\n",
       "      <td>5.0</td>\n",
       "      <td>4</td>\n",
       "      <td>0</td>\n",
       "      <td>1</td>\n",
       "      <td>1</td>\n",
       "      <td>0</td>\n",
       "      <td>...</td>\n",
       "      <td>0</td>\n",
       "      <td>0</td>\n",
       "      <td>0</td>\n",
       "      <td>1</td>\n",
       "      <td>0</td>\n",
       "      <td>1</td>\n",
       "      <td>1</td>\n",
       "      <td>0</td>\n",
       "      <td>0</td>\n",
       "      <td>1</td>\n",
       "    </tr>\n",
       "    <tr>\n",
       "      <th>1</th>\n",
       "      <td>0</td>\n",
       "      <td>0.0</td>\n",
       "      <td>0.0</td>\n",
       "      <td>12</td>\n",
       "      <td>7.0</td>\n",
       "      <td>1</td>\n",
       "      <td>1</td>\n",
       "      <td>0</td>\n",
       "      <td>1</td>\n",
       "      <td>0</td>\n",
       "      <td>...</td>\n",
       "      <td>0</td>\n",
       "      <td>0</td>\n",
       "      <td>0</td>\n",
       "      <td>1</td>\n",
       "      <td>1</td>\n",
       "      <td>0</td>\n",
       "      <td>1</td>\n",
       "      <td>0</td>\n",
       "      <td>1</td>\n",
       "      <td>0</td>\n",
       "    </tr>\n",
       "    <tr>\n",
       "      <th>2</th>\n",
       "      <td>0</td>\n",
       "      <td>20.0</td>\n",
       "      <td>30.0</td>\n",
       "      <td>9</td>\n",
       "      <td>8.0</td>\n",
       "      <td>3</td>\n",
       "      <td>0</td>\n",
       "      <td>1</td>\n",
       "      <td>1</td>\n",
       "      <td>0</td>\n",
       "      <td>...</td>\n",
       "      <td>1</td>\n",
       "      <td>0</td>\n",
       "      <td>0</td>\n",
       "      <td>0</td>\n",
       "      <td>0</td>\n",
       "      <td>1</td>\n",
       "      <td>1</td>\n",
       "      <td>0</td>\n",
       "      <td>1</td>\n",
       "      <td>0</td>\n",
       "    </tr>\n",
       "    <tr>\n",
       "      <th>3</th>\n",
       "      <td>0</td>\n",
       "      <td>0.0</td>\n",
       "      <td>0.0</td>\n",
       "      <td>11</td>\n",
       "      <td>6.0</td>\n",
       "      <td>1</td>\n",
       "      <td>1</td>\n",
       "      <td>0</td>\n",
       "      <td>1</td>\n",
       "      <td>0</td>\n",
       "      <td>...</td>\n",
       "      <td>0</td>\n",
       "      <td>1</td>\n",
       "      <td>0</td>\n",
       "      <td>0</td>\n",
       "      <td>1</td>\n",
       "      <td>0</td>\n",
       "      <td>1</td>\n",
       "      <td>0</td>\n",
       "      <td>0</td>\n",
       "      <td>1</td>\n",
       "    </tr>\n",
       "    <tr>\n",
       "      <th>4</th>\n",
       "      <td>0</td>\n",
       "      <td>28.0</td>\n",
       "      <td>0.0</td>\n",
       "      <td>4</td>\n",
       "      <td>8.0</td>\n",
       "      <td>1</td>\n",
       "      <td>1</td>\n",
       "      <td>0</td>\n",
       "      <td>1</td>\n",
       "      <td>0</td>\n",
       "      <td>...</td>\n",
       "      <td>0</td>\n",
       "      <td>0</td>\n",
       "      <td>0</td>\n",
       "      <td>1</td>\n",
       "      <td>1</td>\n",
       "      <td>0</td>\n",
       "      <td>1</td>\n",
       "      <td>0</td>\n",
       "      <td>1</td>\n",
       "      <td>0</td>\n",
       "    </tr>\n",
       "    <tr>\n",
       "      <th>...</th>\n",
       "      <td>...</td>\n",
       "      <td>...</td>\n",
       "      <td>...</td>\n",
       "      <td>...</td>\n",
       "      <td>...</td>\n",
       "      <td>...</td>\n",
       "      <td>...</td>\n",
       "      <td>...</td>\n",
       "      <td>...</td>\n",
       "      <td>...</td>\n",
       "      <td>...</td>\n",
       "      <td>...</td>\n",
       "      <td>...</td>\n",
       "      <td>...</td>\n",
       "      <td>...</td>\n",
       "      <td>...</td>\n",
       "      <td>...</td>\n",
       "      <td>...</td>\n",
       "      <td>...</td>\n",
       "      <td>...</td>\n",
       "      <td>...</td>\n",
       "    </tr>\n",
       "    <tr>\n",
       "      <th>319790</th>\n",
       "      <td>1</td>\n",
       "      <td>7.0</td>\n",
       "      <td>0.0</td>\n",
       "      <td>8</td>\n",
       "      <td>6.0</td>\n",
       "      <td>3</td>\n",
       "      <td>0</td>\n",
       "      <td>1</td>\n",
       "      <td>1</td>\n",
       "      <td>0</td>\n",
       "      <td>...</td>\n",
       "      <td>1</td>\n",
       "      <td>0</td>\n",
       "      <td>0</td>\n",
       "      <td>0</td>\n",
       "      <td>0</td>\n",
       "      <td>1</td>\n",
       "      <td>1</td>\n",
       "      <td>0</td>\n",
       "      <td>1</td>\n",
       "      <td>0</td>\n",
       "    </tr>\n",
       "    <tr>\n",
       "      <th>319791</th>\n",
       "      <td>0</td>\n",
       "      <td>0.0</td>\n",
       "      <td>0.0</td>\n",
       "      <td>3</td>\n",
       "      <td>5.0</td>\n",
       "      <td>3</td>\n",
       "      <td>0</td>\n",
       "      <td>1</td>\n",
       "      <td>1</td>\n",
       "      <td>0</td>\n",
       "      <td>...</td>\n",
       "      <td>0</td>\n",
       "      <td>0</td>\n",
       "      <td>0</td>\n",
       "      <td>1</td>\n",
       "      <td>0</td>\n",
       "      <td>1</td>\n",
       "      <td>1</td>\n",
       "      <td>0</td>\n",
       "      <td>1</td>\n",
       "      <td>0</td>\n",
       "    </tr>\n",
       "    <tr>\n",
       "      <th>319792</th>\n",
       "      <td>0</td>\n",
       "      <td>0.0</td>\n",
       "      <td>0.0</td>\n",
       "      <td>5</td>\n",
       "      <td>6.0</td>\n",
       "      <td>1</td>\n",
       "      <td>1</td>\n",
       "      <td>0</td>\n",
       "      <td>1</td>\n",
       "      <td>0</td>\n",
       "      <td>...</td>\n",
       "      <td>0</td>\n",
       "      <td>1</td>\n",
       "      <td>0</td>\n",
       "      <td>0</td>\n",
       "      <td>1</td>\n",
       "      <td>0</td>\n",
       "      <td>1</td>\n",
       "      <td>0</td>\n",
       "      <td>1</td>\n",
       "      <td>0</td>\n",
       "    </tr>\n",
       "    <tr>\n",
       "      <th>319793</th>\n",
       "      <td>0</td>\n",
       "      <td>0.0</td>\n",
       "      <td>0.0</td>\n",
       "      <td>1</td>\n",
       "      <td>12.0</td>\n",
       "      <td>2</td>\n",
       "      <td>1</td>\n",
       "      <td>0</td>\n",
       "      <td>1</td>\n",
       "      <td>0</td>\n",
       "      <td>...</td>\n",
       "      <td>0</td>\n",
       "      <td>1</td>\n",
       "      <td>0</td>\n",
       "      <td>0</td>\n",
       "      <td>1</td>\n",
       "      <td>0</td>\n",
       "      <td>1</td>\n",
       "      <td>0</td>\n",
       "      <td>1</td>\n",
       "      <td>0</td>\n",
       "    </tr>\n",
       "    <tr>\n",
       "      <th>319794</th>\n",
       "      <td>0</td>\n",
       "      <td>0.0</td>\n",
       "      <td>0.0</td>\n",
       "      <td>12</td>\n",
       "      <td>8.0</td>\n",
       "      <td>0</td>\n",
       "      <td>1</td>\n",
       "      <td>0</td>\n",
       "      <td>1</td>\n",
       "      <td>0</td>\n",
       "      <td>...</td>\n",
       "      <td>0</td>\n",
       "      <td>1</td>\n",
       "      <td>0</td>\n",
       "      <td>0</td>\n",
       "      <td>1</td>\n",
       "      <td>0</td>\n",
       "      <td>1</td>\n",
       "      <td>0</td>\n",
       "      <td>1</td>\n",
       "      <td>0</td>\n",
       "    </tr>\n",
       "  </tbody>\n",
       "</table>\n",
       "<p>319795 rows × 39 columns</p>\n",
       "</div>"
      ],
      "text/plain": [
       "        HeartDisease  PhysicalHealth  MentalHealth  AgeCategory  SleepTime  \\\n",
       "0                  0             3.0          30.0            7        5.0   \n",
       "1                  0             0.0           0.0           12        7.0   \n",
       "2                  0            20.0          30.0            9        8.0   \n",
       "3                  0             0.0           0.0           11        6.0   \n",
       "4                  0            28.0           0.0            4        8.0   \n",
       "...              ...             ...           ...          ...        ...   \n",
       "319790             1             7.0           0.0            8        6.0   \n",
       "319791             0             0.0           0.0            3        5.0   \n",
       "319792             0             0.0           0.0            5        6.0   \n",
       "319793             0             0.0           0.0            1       12.0   \n",
       "319794             0             0.0           0.0           12        8.0   \n",
       "\n",
       "        BMICategory  Smoking_No  Smoking_Yes  AlcoholDrinking_No  \\\n",
       "0                 4           0            1                   1   \n",
       "1                 1           1            0                   1   \n",
       "2                 3           0            1                   1   \n",
       "3                 1           1            0                   1   \n",
       "4                 1           1            0                   1   \n",
       "...             ...         ...          ...                 ...   \n",
       "319790            3           0            1                   1   \n",
       "319791            3           0            1                   1   \n",
       "319792            1           1            0                   1   \n",
       "319793            2           1            0                   1   \n",
       "319794            0           1            0                   1   \n",
       "\n",
       "        AlcoholDrinking_Yes  ...  GenHealth_Fair  GenHealth_Good  \\\n",
       "0                         0  ...               0               0   \n",
       "1                         0  ...               0               0   \n",
       "2                         0  ...               1               0   \n",
       "3                         0  ...               0               1   \n",
       "4                         0  ...               0               0   \n",
       "...                     ...  ...             ...             ...   \n",
       "319790                    0  ...               1               0   \n",
       "319791                    0  ...               0               0   \n",
       "319792                    0  ...               0               1   \n",
       "319793                    0  ...               0               1   \n",
       "319794                    0  ...               0               1   \n",
       "\n",
       "        GenHealth_Poor  GenHealth_Very good  Asthma_No  Asthma_Yes  \\\n",
       "0                    0                    1          0           1   \n",
       "1                    0                    1          1           0   \n",
       "2                    0                    0          0           1   \n",
       "3                    0                    0          1           0   \n",
       "4                    0                    1          1           0   \n",
       "...                ...                  ...        ...         ...   \n",
       "319790               0                    0          0           1   \n",
       "319791               0                    1          0           1   \n",
       "319792               0                    0          1           0   \n",
       "319793               0                    0          1           0   \n",
       "319794               0                    0          1           0   \n",
       "\n",
       "        KidneyDisease_No  KidneyDisease_Yes  SkinCancer_No  SkinCancer_Yes  \n",
       "0                      1                  0              0               1  \n",
       "1                      1                  0              1               0  \n",
       "2                      1                  0              1               0  \n",
       "3                      1                  0              0               1  \n",
       "4                      1                  0              1               0  \n",
       "...                  ...                ...            ...             ...  \n",
       "319790                 1                  0              1               0  \n",
       "319791                 1                  0              1               0  \n",
       "319792                 1                  0              1               0  \n",
       "319793                 1                  0              1               0  \n",
       "319794                 1                  0              1               0  \n",
       "\n",
       "[319795 rows x 39 columns]"
      ]
     },
     "execution_count": 66,
     "metadata": {},
     "output_type": "execute_result"
    }
   ],
   "source": [
    "df"
   ]
  },
  {
   "cell_type": "markdown",
   "metadata": {},
   "source": [
    "## Checking ratio"
   ]
  },
  {
   "cell_type": "code",
   "execution_count": 12,
   "metadata": {},
   "outputs": [
    {
     "data": {
      "image/png": "[encoded data removed]",
      "text/plain": [
       "<Figure size 1080x576 with 1 Axes>"
      ]
     },
     "metadata": {},
     "output_type": "display_data"
    }
   ],
   "source": [
    "fig, ax = plt.subplots(1, 1,figsize =(15, 8))\n",
    "ax.pie(df['HeartDisease'].value_counts(),autopct='%1.0f%%',labels=['No',\"Yes\"],explode=(0,0.05),colors=['#27ae60','#c0392b'])\n",
    "ax.set_title('Having HD Ratio')\n",
    "fig.show()"
   ]
  },
  {
   "cell_type": "code",
   "execution_count": 13,
   "metadata": {},
   "outputs": [],
   "source": [
    "X = df.drop('HeartDisease',axis=1)\n",
    "Y = df['HeartDisease']"
   ]
  },
  {
   "cell_type": "markdown",
   "metadata": {},
   "source": [
    "## Sampling techniques due to imbalance"
   ]
  },
  {
   "cell_type": "code",
   "execution_count": 14,
   "metadata": {},
   "outputs": [],
   "source": [
    "from imblearn.over_sampling import SMOTE\n",
    "over = SMOTE(k_neighbors=2000)\n",
    "X, Y = over.fit_resample(X, Y)\n",
    "X_train, X_test, y_train, y_test = train_test_split(X, Y, test_size=0.25, random_state=2022, stratify=Y)"
   ]
  },
  {
   "cell_type": "code",
   "execution_count": 15,
   "metadata": {},
   "outputs": [
    {
     "data": {
      "image/png": "[encoded data removed]",
      "text/plain": [
       "<Figure size 1080x576 with 1 Axes>"
      ]
     },
     "metadata": {},
     "output_type": "display_data"
    }
   ],
   "source": [
    "fig, ax = plt.subplots(1, 1,figsize =(15, 8))\n",
    "ax.pie(Y.value_counts(),autopct='%1.0f%%',labels=['No',\"Yes\"],explode=(0,0.05),colors=['#27ae60','#c0392b'])\n",
    "ax.set_title('Having HD Ratio')\n",
    "fig.show()"
   ]
  },
  {
   "cell_type": "markdown",
   "metadata": {},
   "source": [
    "## Model building"
   ]
  },
  {
   "cell_type": "code",
   "execution_count": 19,
   "metadata": {},
   "outputs": [],
   "source": [
    "from xgboost import XGBClassifier\n",
    "from sklearn.linear_model import LogisticRegression, SGDClassifier\n",
    "from sklearn.neighbors import KNeighborsClassifier\n",
    "from sklearn.tree import DecisionTreeClassifier\n",
    "from sklearn.ensemble import RandomForestClassifier, AdaBoostClassifier\n",
    "from sklearn.svm import SVC, LinearSVC"
   ]
  },
  {
   "cell_type": "code",
   "execution_count": 20,
   "metadata": {},
   "outputs": [],
   "source": [
    "models = {\n",
    "    \"DT\":DecisionTreeClassifier(random_state = 2022, max_depth=15),\n",
    "    \"Logistic\": LogisticRegression(random_state = 2022),\n",
    "    \"SGD\": SGDClassifier(random_state = 2022),\n",
    "    \"RF\":RandomForestClassifier(random_state = 2022, max_depth=15),\n",
    "    \"Ada\":AdaBoostClassifier(random_state=2022),\n",
    "    \"XGB\":XGBClassifier(random_state=2022)\n",
    "}\n",
    "results = pd.DataFrame(columns=['Model', 'Train Score','Test Score','Recall','Precision','f1-score'])\n",
    "def test_models(X_train, X_test, y_train, y_test):\n",
    "    for model in models:\n",
    "        fit = models[model].fit(X_train, y_train)\n",
    "        fig, ax = plt.subplots(figsize=(8, 6))\n",
    "        ax.set_title(model)\n",
    "        metrics.plot_confusion_matrix(fit, X_test, y_test, cmap='Blues', normalize='true', ax=ax)\n",
    "        plt.show()\n",
    "        train_score = round(fit.score(X_train, y_train),3)\n",
    "        test_score = round(fit.score(X_test, y_test),3)\n",
    "        recall = round(metrics.recall_score(y_test, fit.predict(X_test))*100,2)\n",
    "        precision = round(metrics.precision_score(y_test, fit.predict(X_test))*100,2)\n",
    "        f1 = round(metrics.f1_score(y_test, fit.predict(X_test))*100,2)\n",
    "        results.loc[len(results.index)] = [model, train_score, test_score, recall, precision, f1]"
   ]
  },
  {
   "cell_type": "code",
   "execution_count": null,
   "metadata": {},
   "outputs": [],
   "source": [
    "test_models(X_train, X_test, y_train, y_test)"
   ]
  },
  {
   "cell_type": "markdown",
   "metadata": {},
   "source": [
    "## Comparing Models"
   ]
  },
  {
   "cell_type": "code",
   "execution_count": 22,
   "metadata": {},
   "outputs": [
    {
     "data": {
      "text/html": [
       "<div>\n",
       "<style scoped>\n",
       "    .dataframe tbody tr th:only-of-type {\n",
       "        vertical-align: middle;\n",
       "    }\n",
       "\n",
       "    .dataframe tbody tr th {\n",
       "        vertical-align: top;\n",
       "    }\n",
       "\n",
       "    .dataframe thead th {\n",
       "        text-align: right;\n",
       "    }\n",
       "</style>\n",
       "<table border=\"1\" class=\"dataframe\">\n",
       "  <thead>\n",
       "    <tr style=\"text-align: right;\">\n",
       "      <th></th>\n",
       "      <th>Model</th>\n",
       "      <th>Train Score</th>\n",
       "      <th>Test Score</th>\n",
       "      <th>Recall</th>\n",
       "      <th>Precision</th>\n",
       "      <th>f1-score</th>\n",
       "    </tr>\n",
       "  </thead>\n",
       "  <tbody>\n",
       "    <tr>\n",
       "      <th>0</th>\n",
       "      <td>DT</td>\n",
       "      <td>0.945</td>\n",
       "      <td>0.935</td>\n",
       "      <td>89.03</td>\n",
       "      <td>97.82</td>\n",
       "      <td>93.22</td>\n",
       "    </tr>\n",
       "    <tr>\n",
       "      <th>1</th>\n",
       "      <td>Logistic</td>\n",
       "      <td>0.937</td>\n",
       "      <td>0.938</td>\n",
       "      <td>89.68</td>\n",
       "      <td>97.67</td>\n",
       "      <td>93.51</td>\n",
       "    </tr>\n",
       "    <tr>\n",
       "      <th>2</th>\n",
       "      <td>SGD</td>\n",
       "      <td>0.946</td>\n",
       "      <td>0.947</td>\n",
       "      <td>89.36</td>\n",
       "      <td>100.00</td>\n",
       "      <td>94.38</td>\n",
       "    </tr>\n",
       "    <tr>\n",
       "      <th>3</th>\n",
       "      <td>RF</td>\n",
       "      <td>0.947</td>\n",
       "      <td>0.942</td>\n",
       "      <td>91.23</td>\n",
       "      <td>96.92</td>\n",
       "      <td>93.99</td>\n",
       "    </tr>\n",
       "    <tr>\n",
       "      <th>4</th>\n",
       "      <td>Ada</td>\n",
       "      <td>0.932</td>\n",
       "      <td>0.933</td>\n",
       "      <td>89.83</td>\n",
       "      <td>96.57</td>\n",
       "      <td>93.08</td>\n",
       "    </tr>\n",
       "    <tr>\n",
       "      <th>5</th>\n",
       "      <td>XGB</td>\n",
       "      <td>0.954</td>\n",
       "      <td>0.953</td>\n",
       "      <td>91.35</td>\n",
       "      <td>99.16</td>\n",
       "      <td>95.09</td>\n",
       "    </tr>\n",
       "  </tbody>\n",
       "</table>\n",
       "</div>"
      ],
      "text/plain": [
       "      Model  Train Score  Test Score  Recall  Precision  f1-score\n",
       "0        DT        0.945       0.935   89.03      97.82     93.22\n",
       "1  Logistic        0.937       0.938   89.68      97.67     93.51\n",
       "2       SGD        0.946       0.947   89.36     100.00     94.38\n",
       "3        RF        0.947       0.942   91.23      96.92     93.99\n",
       "4       Ada        0.932       0.933   89.83      96.57     93.08\n",
       "5       XGB        0.954       0.953   91.35      99.16     95.09"
      ]
     },
     "execution_count": 22,
     "metadata": {},
     "output_type": "execute_result"
    }
   ],
   "source": [
    "results"
   ]
  },
  {
   "cell_type": "code",
   "execution_count": 23,
   "metadata": {},
   "outputs": [
    {
     "data": {
      "image/png": "[encoded data removed]",
      "text/plain": [
       "<Figure size 1080x504 with 1 Axes>"
      ]
     },
     "metadata": {
      "needs_background": "light"
     },
     "output_type": "display_data"
    }
   ],
   "source": [
    "plt.figure(figsize=(15, 7))\n",
    "sns.set_theme(style=\"whitegrid\", font_scale=2)\n",
    "ax = sns.barplot(x='Model', y=\"Recall\", data=results)\n",
    "#ax.label(ax.containers[0], label_type='edge')\n",
    "ax.set_title('Models Recall comparison')\n",
    "fig.show()"
   ]
  },
  {
   "cell_type": "code",
   "execution_count": 24,
   "metadata": {},
   "outputs": [],
   "source": [
    "def fit_model_result(x_train, x_test, y_train, y_test, model):\n",
    "    # Modelling\n",
    "    reg = model\n",
    "    reg.fit(x_train,y_train)\n",
    "    \n",
    "    # Getting evaluation results\n",
    "    y_pred = reg.predict(x_test)\n",
    "    report = metrics.classification_report(y_test, y_pred, digits=5, output_dict=True)\n",
    "    recall = round(report['weighted avg']['recall']*100, 2)\n",
    "    precision = round(report['weighted avg']['precision']*100, 2)\n",
    "    f1 = round(report['weighted avg']['f1-score']*100,2)\n",
    "    test_score = round(report['accuracy']*100,2)\n",
    "    train_score = round(reg.score(x_train,y_train)*100,2)\n",
    "    print(metrics.classification_report(y_test, y_pred, digits=5))\n",
    "    \n",
    "    # Displaying confusion matrix\n",
    "    fig, ax = plt.subplots(figsize=(10, 8))\n",
    "    metrics.plot_confusion_matrix(reg, x_test, y_test, cmap='Blues', normalize='true',ax=ax, display_labels=['No HD','HD'])\n",
    "    plt.show()"
   ]
  },
  {
   "cell_type": "code",
   "execution_count": 25,
   "metadata": {},
   "outputs": [
    {
     "name": "stdout",
     "output_type": "stream",
     "text": [
      "[17:29:27] WARNING: C:/Users/Administrator/workspace/xgboost-win64_release_1.4.0/src/learner.cc:1095: Starting in XGBoost 1.3.0, the default evaluation metric used with the objective 'binary:logistic' was changed from 'error' to 'logloss'. Explicitly set eval_metric if you'd like to restore the old behavior.\n",
      "              precision    recall  f1-score   support\n",
      "\n",
      "           0    0.91984   0.99222   0.95466     73105\n",
      "           1    0.99155   0.91354   0.95095     73106\n",
      "\n",
      "    accuracy                        0.95288    146211\n",
      "   macro avg    0.95570   0.95288   0.95280    146211\n",
      "weighted avg    0.95570   0.95288   0.95280    146211\n",
      "\n"
     ]
    },
    {
     "data": {
      "image/png": "[encoded data removed]",
      "text/plain": [
       "<Figure size 720x576 with 2 Axes>"
      ]
     },
     "metadata": {},
     "output_type": "display_data"
    }
   ],
   "source": [
    "fit_model_result(X_train, X_test, y_train, y_test,XGBClassifier(random_state=2022))"
   ]
  },
  {
   "cell_type": "markdown",
   "metadata": {},
   "source": [
    "## XBNet model"
   ]
  },
  {
   "cell_type": "code",
   "execution_count": 26,
   "metadata": {},
   "outputs": [],
   "source": [
    "import torch\n",
    "import numpy as np\n",
    "from sklearn.model_selection import train_test_split"
   ]
  },
  {
   "cell_type": "code",
   "execution_count": 27,
   "metadata": {},
   "outputs": [],
   "source": [
    "from XBNet.training_utils import training,predict\n",
    "from XBNet.models import XBNETClassifier\n",
    "from XBNet.run import run_XBNET"
   ]
  },
  {
   "cell_type": "code",
   "execution_count": 29,
   "metadata": {},
   "outputs": [
    {
     "name": "stdout",
     "output_type": "stream",
     "text": [
      "Enter dimensions of linear layers: \n",
      "Enter input dimensions of layer 1: 10\n",
      "Enter output dimensions of layer 1: 10\n",
      "Set bias as True or False: True\n",
      "Enter input dimensions of layer 2: 10\n",
      "Enter output dimensions of layer 2: 10\n",
      "Set bias as True or False: False\n",
      "Enter your last layer \n",
      "1. Sigmoid \n",
      "2. Softmax \n",
      "3. None \n",
      "3\n"
     ]
    }
   ],
   "source": [
    "model = XBNETClassifier(X_train,y_train,num_layers=2)"
   ]
  },
  {
   "cell_type": "code",
   "execution_count": 30,
   "metadata": {},
   "outputs": [],
   "source": [
    "criterion = torch.nn.CrossEntropyLoss()\n",
    "optimizer = torch.optim.Adam(model.parameters(), lr=0.01)"
   ]
  },
  {
   "cell_type": "code",
   "execution_count": 49,
   "metadata": {
    "scrolled": false
   },
   "outputs": [
    {
     "name": "stderr",
     "output_type": "stream",
     "text": [
      "\r",
      "Percentage training completed:   0%|                                                           | 0/100 [00:00<?, ?it/s]"
     ]
    },
    {
     "name": "stdout",
     "output_type": "stream",
     "text": [
      "Training Loss after epoch 1 is 0.15884291553938598 and Accuracy is 94.24461907790796\n"
     ]
    },
    {
     "name": "stderr",
     "output_type": "stream",
     "text": [
      "\r",
      "Percentage training completed:   1%|▍                                              | 1/100 [12:53<21:16:02, 773.36s/it]"
     ]
    },
    {
     "name": "stdout",
     "output_type": "stream",
     "text": [
      "Validation Loss after epoch 1 is 0.14671030640602112 and Accuracy is 94.39440260992674\n",
      "Training Loss after epoch 2 is 0.1577556926606542 and Accuracy is 94.27562449701686\n"
     ]
    },
    {
     "name": "stderr",
     "output_type": "stream",
     "text": [
      "\r",
      "Percentage training completed:   2%|▉                                              | 2/100 [25:22<20:51:22, 766.15s/it]"
     ]
    },
    {
     "name": "stdout",
     "output_type": "stream",
     "text": [
      "Validation Loss after epoch 2 is 0.1463661789894104 and Accuracy is 94.41150118664122\n",
      "Training Loss after epoch 3 is 0.15698137885217886 and Accuracy is 94.30913770737723\n"
     ]
    },
    {
     "name": "stderr",
     "output_type": "stream",
     "text": [
      "\r",
      "Percentage training completed:   3%|█▍                                             | 3/100 [38:07<20:38:00, 765.78s/it]"
     ]
    },
    {
     "name": "stdout",
     "output_type": "stream",
     "text": [
      "Validation Loss after epoch 3 is 0.14499513804912567 and Accuracy is 94.44091073859012\n",
      "Training Loss after epoch 4 is 0.15634815890936066 and Accuracy is 94.327376189206\n"
     ]
    },
    {
     "name": "stderr",
     "output_type": "stream",
     "text": [
      "\r",
      "Percentage training completed:   4%|█▉                                             | 4/100 [50:40<20:19:11, 761.99s/it]"
     ]
    },
    {
     "name": "stdout",
     "output_type": "stream",
     "text": [
      "Validation Loss after epoch 4 is 0.1448308378458023 and Accuracy is 94.46484874599038\n",
      "Training Loss after epoch 5 is 0.15593798392935898 and Accuracy is 94.34652659512622\n"
     ]
    },
    {
     "name": "stderr",
     "output_type": "stream",
     "text": [
      "\r",
      "Percentage training completed:   5%|██▎                                          | 5/100 [1:03:16<20:03:28, 760.09s/it]"
     ]
    },
    {
     "name": "stdout",
     "output_type": "stream",
     "text": [
      "Validation Loss after epoch 5 is 0.14423592388629913 and Accuracy is 94.43954285245296\n",
      "Training Loss after epoch 6 is 0.15559338622844443 and Accuracy is 94.35610179808633\n"
     ]
    },
    {
     "name": "stderr",
     "output_type": "stream",
     "text": [
      "\r",
      "Percentage training completed:   6%|██▋                                          | 6/100 [1:16:10<19:57:10, 764.15s/it]"
     ]
    },
    {
     "name": "stdout",
     "output_type": "stream",
     "text": [
      "Validation Loss after epoch 6 is 0.1439158171415329 and Accuracy is 94.53529488205402\n",
      "Training Loss after epoch 7 is 0.15525977065034488 and Accuracy is 94.36339719081784\n"
     ]
    },
    {
     "name": "stderr",
     "output_type": "stream",
     "text": [
      "\r",
      "Percentage training completed:   7%|███▏                                         | 7/100 [1:29:03<19:48:34, 766.82s/it]"
     ]
    },
    {
     "name": "stdout",
     "output_type": "stream",
     "text": [
      "Validation Loss after epoch 7 is 0.14347079396247864 and Accuracy is 94.48263126577343\n",
      "Training Loss after epoch 8 is 0.15509589678197658 and Accuracy is 94.37730403321227\n"
     ]
    },
    {
     "name": "stderr",
     "output_type": "stream",
     "text": [
      "\r",
      "Percentage training completed:   8%|███▌                                         | 8/100 [1:41:38<19:30:43, 763.52s/it]"
     ]
    },
    {
     "name": "stdout",
     "output_type": "stream",
     "text": [
      "Validation Loss after epoch 8 is 0.14355646073818207 and Accuracy is 94.47510789201907\n",
      "Training Loss after epoch 9 is 0.15485600428509672 and Accuracy is 94.38391548287521\n"
     ]
    },
    {
     "name": "stderr",
     "output_type": "stream",
     "text": [
      "\r",
      "Percentage training completed:   9%|████                                         | 9/100 [1:54:07<19:11:17, 759.09s/it]"
     ]
    },
    {
     "name": "stdout",
     "output_type": "stream",
     "text": [
      "Validation Loss after epoch 9 is 0.14347654581069946 and Accuracy is 94.52161602068244\n",
      "Training Loss after epoch 10 is 0.1546463755029111 and Accuracy is 94.38573933105808\n"
     ]
    },
    {
     "name": "stderr",
     "output_type": "stream",
     "text": [
      "\r",
      "Percentage training completed:  10%|████▍                                       | 10/100 [2:06:39<18:55:24, 756.94s/it]"
     ]
    },
    {
     "name": "stdout",
     "output_type": "stream",
     "text": [
      "Validation Loss after epoch 10 is 0.14319321513175964 and Accuracy is 94.50793715931086\n",
      "Training Loss after epoch 11 is 0.1544600386090801 and Accuracy is 94.3969104011782\n"
     ]
    },
    {
     "name": "stderr",
     "output_type": "stream",
     "text": [
      "\r",
      "Percentage training completed:  11%|████▊                                       | 11/100 [2:19:10<18:40:13, 755.21s/it]"
     ]
    },
    {
     "name": "stdout",
     "output_type": "stream",
     "text": [
      "Validation Loss after epoch 11 is 0.14316678047180176 and Accuracy is 94.5134087038595\n",
      "Training Loss after epoch 12 is 0.1542477349815988 and Accuracy is 94.3946305909496\n"
     ]
    },
    {
     "name": "stderr",
     "output_type": "stream",
     "text": [
      "\r",
      "Percentage training completed:  12%|█████▎                                      | 12/100 [2:31:51<18:30:11, 756.94s/it]"
     ]
    },
    {
     "name": "stdout",
     "output_type": "stream",
     "text": [
      "Validation Loss after epoch 12 is 0.14252518117427826 and Accuracy is 94.59069427060892\n",
      "Training Loss after epoch 13 is 0.1541888379900661 and Accuracy is 94.40306588879541\n"
     ]
    },
    {
     "name": "stderr",
     "output_type": "stream",
     "text": [
      "\r",
      "Percentage training completed:  13%|█████▋                                      | 13/100 [2:44:54<18:28:37, 764.57s/it]"
     ]
    },
    {
     "name": "stdout",
     "output_type": "stream",
     "text": [
      "Validation Loss after epoch 13 is 0.1427498757839203 and Accuracy is 94.57017597855155\n",
      "Training Loss after epoch 14 is 0.1540686407311691 and Accuracy is 94.40739752822975\n"
     ]
    },
    {
     "name": "stderr",
     "output_type": "stream",
     "text": [
      "\r",
      "Percentage training completed:  14%|██████▏                                     | 14/100 [2:57:23<18:09:31, 760.13s/it]"
     ]
    },
    {
     "name": "stdout",
     "output_type": "stream",
     "text": [
      "Validation Loss after epoch 14 is 0.14286991953849792 and Accuracy is 94.56949203548297\n",
      "Training Loss after epoch 15 is 0.15382974797479732 and Accuracy is 94.40762550925261\n"
     ]
    },
    {
     "name": "stderr",
     "output_type": "stream",
     "text": [
      "\r",
      "Percentage training completed:  15%|██████▌                                     | 15/100 [3:10:03<17:56:34, 759.93s/it]"
     ]
    },
    {
     "name": "stdout",
     "output_type": "stream",
     "text": [
      "Validation Loss after epoch 15 is 0.1422642171382904 and Accuracy is 94.55307740183707\n",
      "Training Loss after epoch 16 is 0.15375956329231039 and Accuracy is 94.40557368004687\n"
     ]
    },
    {
     "name": "stderr",
     "output_type": "stream",
     "text": [
      "\r",
      "Percentage training completed:  16%|███████                                     | 16/100 [3:22:42<17:43:31, 759.66s/it]"
     ]
    },
    {
     "name": "stdout",
     "output_type": "stream",
     "text": [
      "Validation Loss after epoch 16 is 0.1424948275089264 and Accuracy is 94.58317089685454\n",
      "Training Loss after epoch 17 is 0.15371354405854093 and Accuracy is 94.41241311073266\n"
     ]
    },
    {
     "name": "stderr",
     "output_type": "stream",
     "text": [
      "\r",
      "Percentage training completed:  17%|███████▍                                    | 17/100 [3:35:12<17:27:04, 756.92s/it]"
     ]
    },
    {
     "name": "stdout",
     "output_type": "stream",
     "text": [
      "Validation Loss after epoch 17 is 0.14246346056461334 and Accuracy is 94.54487008501413\n",
      "Training Loss after epoch 18 is 0.15357829842565357 and Accuracy is 94.40830945232119\n"
     ]
    },
    {
     "name": "stderr",
     "output_type": "stream",
     "text": [
      "\r",
      "Percentage training completed:  18%|███████▉                                    | 18/100 [3:47:45<17:12:37, 755.58s/it]"
     ]
    },
    {
     "name": "stdout",
     "output_type": "stream",
     "text": [
      "Validation Loss after epoch 18 is 0.14203473925590515 and Accuracy is 94.59411398595181\n",
      "Training Loss after epoch 19 is 0.1534891281689881 and Accuracy is 94.41058926254979\n"
     ]
    },
    {
     "name": "stderr",
     "output_type": "stream",
     "text": [
      "\r",
      "Percentage training completed:  19%|████████▎                                   | 19/100 [4:00:16<16:58:03, 754.12s/it]"
     ]
    },
    {
     "name": "stdout",
     "output_type": "stream",
     "text": [
      "Validation Loss after epoch 19 is 0.14198879897594452 and Accuracy is 94.58659061219744\n",
      "Training Loss after epoch 20 is 0.1533782122932404 and Accuracy is 94.41993648448702\n"
     ]
    },
    {
     "name": "stderr",
     "output_type": "stream",
     "text": [
      "\r",
      "Percentage training completed:  20%|████████▊                                   | 20/100 [4:12:44<16:43:09, 752.37s/it]"
     ]
    },
    {
     "name": "stdout",
     "output_type": "stream",
     "text": [
      "Validation Loss after epoch 20 is 0.1430138349533081 and Accuracy is 94.57769935230591\n",
      "Training Loss after epoch 21 is 0.15323534870193714 and Accuracy is 94.41355301584696\n"
     ]
    },
    {
     "name": "stderr",
     "output_type": "stream",
     "text": [
      "\r",
      "Percentage training completed:  21%|█████████▏                                  | 21/100 [4:25:14<16:29:46, 751.73s/it]"
     ]
    },
    {
     "name": "stdout",
     "output_type": "stream",
     "text": [
      "Validation Loss after epoch 21 is 0.14236736297607422 and Accuracy is 94.57427963696301\n",
      "Training Loss after epoch 22 is 0.15318172879194092 and Accuracy is 94.41309705380124\n"
     ]
    },
    {
     "name": "stderr",
     "output_type": "stream",
     "text": [
      "\r",
      "Percentage training completed:  22%|█████████▋                                  | 22/100 [4:37:44<16:16:40, 751.28s/it]"
     ]
    },
    {
     "name": "stdout",
     "output_type": "stream",
     "text": [
      "Validation Loss after epoch 22 is 0.14236247539520264 and Accuracy is 94.56128471866002\n",
      "Training Loss after epoch 23 is 0.15306879812022678 and Accuracy is 94.4240401428985\n"
     ]
    },
    {
     "name": "stderr",
     "output_type": "stream",
     "text": [
      "\r",
      "Percentage training completed:  23%|██████████                                  | 23/100 [4:50:13<16:02:59, 750.38s/it]"
     ]
    },
    {
     "name": "stdout",
     "output_type": "stream",
     "text": [
      "Validation Loss after epoch 23 is 0.14234134554862976 and Accuracy is 94.61941987948923\n",
      "Training Loss after epoch 24 is 0.1530111792195615 and Accuracy is 94.41492090198412\n"
     ]
    },
    {
     "name": "stderr",
     "output_type": "stream",
     "text": [
      "\r",
      "Percentage training completed:  24%|██████████▌                                 | 24/100 [5:02:43<15:50:33, 750.44s/it]"
     ]
    },
    {
     "name": "stdout",
     "output_type": "stream",
     "text": [
      "Validation Loss after epoch 24 is 0.14181753993034363 and Accuracy is 94.6139483349406\n",
      "Training Loss after epoch 25 is 0.15286086476499663 and Accuracy is 94.42130437062418\n"
     ]
    },
    {
     "name": "stderr",
     "output_type": "stream",
     "text": [
      "\r",
      "Percentage training completed:  25%|███████████                                 | 25/100 [5:15:14<15:38:09, 750.53s/it]"
     ]
    },
    {
     "name": "stdout",
     "output_type": "stream",
     "text": [
      "Validation Loss after epoch 25 is 0.14199621975421906 and Accuracy is 94.62831113938076\n",
      "Training Loss after epoch 26 is 0.1527252462405512 and Accuracy is 94.4274598582414\n"
     ]
    },
    {
     "name": "stderr",
     "output_type": "stream",
     "text": [
      "\r",
      "Percentage training completed:  26%|███████████▍                                | 26/100 [5:27:43<15:24:59, 750.00s/it]"
     ]
    },
    {
     "name": "stdout",
     "output_type": "stream",
     "text": [
      "Validation Loss after epoch 26 is 0.14203986525535583 and Accuracy is 94.59206215674607\n",
      "Training Loss after epoch 27 is 0.15277607158943493 and Accuracy is 94.42039244653274\n"
     ]
    },
    {
     "name": "stderr",
     "output_type": "stream",
     "text": [
      "\r",
      "Percentage training completed:  27%|███████████▉                                | 27/100 [5:40:14<15:12:57, 750.38s/it]"
     ]
    },
    {
     "name": "stdout",
     "output_type": "stream",
     "text": [
      "Validation Loss after epoch 27 is 0.14271166920661926 and Accuracy is 94.6365184562037\n",
      "Training Loss after epoch 28 is 0.1525367363251766 and Accuracy is 94.42244427573848\n"
     ]
    },
    {
     "name": "stderr",
     "output_type": "stream",
     "text": [
      "\r",
      "Percentage training completed:  28%|████████████▎                               | 28/100 [5:52:42<14:59:36, 749.68s/it]"
     ]
    },
    {
     "name": "stdout",
     "output_type": "stream",
     "text": [
      "Validation Loss after epoch 28 is 0.14179711043834686 and Accuracy is 94.62010382255781\n",
      "Training Loss after epoch 29 is 0.15251896798664769 and Accuracy is 94.42609197210425\n"
     ]
    },
    {
     "name": "stderr",
     "output_type": "stream",
     "text": [
      "\r",
      "Percentage training completed:  29%|████████████▊                               | 29/100 [6:05:13<14:47:25, 749.94s/it]"
     ]
    },
    {
     "name": "stdout",
     "output_type": "stream",
     "text": [
      "Validation Loss after epoch 29 is 0.1423807293176651 and Accuracy is 94.62283959483213\n",
      "Training Loss after epoch 30 is 0.15247326020598695 and Accuracy is 94.43589515608721\n"
     ]
    },
    {
     "name": "stderr",
     "output_type": "stream",
     "text": [
      "\r",
      "Percentage training completed:  30%|█████████████▏                              | 30/100 [6:17:43<14:35:13, 750.19s/it]"
     ]
    },
    {
     "name": "stdout",
     "output_type": "stream",
     "text": [
      "Validation Loss after epoch 30 is 0.14245890080928802 and Accuracy is 94.65361703291818\n",
      "Training Loss after epoch 31 is 0.15234521955425892 and Accuracy is 94.42449610494423\n"
     ]
    },
    {
     "name": "stderr",
     "output_type": "stream",
     "text": [
      "\r",
      "Percentage training completed:  31%|█████████████▋                              | 31/100 [6:30:13<14:22:32, 750.04s/it]"
     ]
    },
    {
     "name": "stdout",
     "output_type": "stream",
     "text": [
      "Validation Loss after epoch 31 is 0.14200054109096527 and Accuracy is 94.66182434974112\n",
      "Training Loss after epoch 32 is 0.15231543773706965 and Accuracy is 94.42973966846999\n"
     ]
    },
    {
     "name": "stderr",
     "output_type": "stream",
     "text": [
      "\r",
      "Percentage training completed:  32%|██████████████                              | 32/100 [6:42:45<14:10:47, 750.70s/it]"
     ]
    },
    {
     "name": "stdout",
     "output_type": "stream",
     "text": [
      "Validation Loss after epoch 32 is 0.14311692118644714 and Accuracy is 94.60574101811766\n",
      "Training Loss after epoch 33 is 0.152169582894972 and Accuracy is 94.43863092836152\n"
     ]
    },
    {
     "name": "stderr",
     "output_type": "stream",
     "text": [
      "\r",
      "Percentage training completed:  33%|██████████████▌                             | 33/100 [6:55:28<14:02:26, 754.42s/it]"
     ]
    },
    {
     "name": "stdout",
     "output_type": "stream",
     "text": [
      "Validation Loss after epoch 33 is 0.1429147869348526 and Accuracy is 94.63515057006654\n",
      "Training Loss after epoch 34 is 0.15210255106265905 and Accuracy is 94.44068275756726\n"
     ]
    },
    {
     "name": "stderr",
     "output_type": "stream",
     "text": [
      "\r",
      "Percentage training completed:  34%|██████████████▉                             | 34/100 [7:07:56<13:47:37, 752.38s/it]"
     ]
    },
    {
     "name": "stdout",
     "output_type": "stream",
     "text": [
      "Validation Loss after epoch 34 is 0.14276309311389923 and Accuracy is 94.63857028540944\n",
      "Training Loss after epoch 35 is 0.15202828506763283 and Accuracy is 94.44296256779586\n"
     ]
    },
    {
     "name": "stderr",
     "output_type": "stream",
     "text": [
      "\r",
      "Percentage training completed:  35%|███████████████▍                            | 35/100 [7:20:24<13:33:49, 751.22s/it]"
     ]
    },
    {
     "name": "stdout",
     "output_type": "stream",
     "text": [
      "Validation Loss after epoch 35 is 0.14231127500534058 and Accuracy is 94.64609365916381\n",
      "Training Loss after epoch 36 is 0.15191284768780824 and Accuracy is 94.44524237802446\n"
     ]
    },
    {
     "name": "stderr",
     "output_type": "stream",
     "text": [
      "\r",
      "Percentage training completed:  36%|███████████████▊                            | 36/100 [7:32:54<13:20:38, 750.60s/it]"
     ]
    },
    {
     "name": "stdout",
     "output_type": "stream",
     "text": [
      "Validation Loss after epoch 36 is 0.14263933897018433 and Accuracy is 94.67003166656407\n",
      "Training Loss after epoch 37 is 0.15184206380557078 and Accuracy is 94.4454703590473\n"
     ]
    },
    {
     "name": "stderr",
     "output_type": "stream",
     "text": [
      "\r",
      "Percentage training completed:  37%|████████████████▎                           | 37/100 [7:45:24<13:07:58, 750.46s/it]"
     ]
    },
    {
     "name": "stdout",
     "output_type": "stream",
     "text": [
      "Validation Loss after epoch 37 is 0.1430983990430832 and Accuracy is 94.64882943143813\n",
      "Training Loss after epoch 38 is 0.15171679998534673 and Accuracy is 94.44797815029877\n"
     ]
    },
    {
     "name": "stderr",
     "output_type": "stream",
     "text": [
      "\r",
      "Percentage training completed:  38%|████████████████▋                           | 38/100 [7:57:53<12:54:56, 749.94s/it]"
     ]
    },
    {
     "name": "stdout",
     "output_type": "stream",
     "text": [
      "Validation Loss after epoch 38 is 0.1424795538187027 and Accuracy is 94.64882943143813\n",
      "Training Loss after epoch 39 is 0.1515888344199047 and Accuracy is 94.43680708017865\n"
     ]
    },
    {
     "name": "stderr",
     "output_type": "stream",
     "text": [
      "\r",
      "Percentage training completed:  39%|█████████████████▏                          | 39/100 [8:10:20<12:41:40, 749.19s/it]"
     ]
    },
    {
     "name": "stdout",
     "output_type": "stream",
     "text": [
      "Validation Loss after epoch 39 is 0.14243006706237793 and Accuracy is 94.60505707504907\n",
      "Training Loss after epoch 40 is 0.15156639148503612 and Accuracy is 94.44797815029877\n"
     ]
    },
    {
     "name": "stderr",
     "output_type": "stream",
     "text": [
      "\r",
      "Percentage training completed:  40%|█████████████████▌                          | 40/100 [8:22:48<12:28:42, 748.71s/it]"
     ]
    },
    {
     "name": "stdout",
     "output_type": "stream",
     "text": [
      "Validation Loss after epoch 40 is 0.14250844717025757 and Accuracy is 94.64540971609523\n",
      "Training Loss after epoch 41 is 0.15152865686261743 and Accuracy is 94.44683824518447\n"
     ]
    },
    {
     "name": "stderr",
     "output_type": "stream",
     "text": [
      "\r",
      "Percentage training completed:  41%|██████████████████                          | 41/100 [8:35:15<12:15:59, 748.46s/it]"
     ]
    },
    {
     "name": "stdout",
     "output_type": "stream",
     "text": [
      "Validation Loss after epoch 41 is 0.1427880823612213 and Accuracy is 94.66387617894686\n",
      "Training Loss after epoch 42 is 0.15132141740018268 and Accuracy is 94.45322171382455\n"
     ]
    },
    {
     "name": "stderr",
     "output_type": "stream",
     "text": [
      "\r",
      "Percentage training completed:  42%|██████████████████▍                         | 42/100 [8:47:45<12:03:44, 748.70s/it]"
     ]
    },
    {
     "name": "stdout",
     "output_type": "stream",
     "text": [
      "Validation Loss after epoch 42 is 0.14090768992900848 and Accuracy is 94.64540971609523\n",
      "Training Loss after epoch 43 is 0.15127629505549614 and Accuracy is 94.45732537223601\n"
     ]
    },
    {
     "name": "stderr",
     "output_type": "stream",
     "text": [
      "\r",
      "Percentage training completed:  43%|██████████████████▉                         | 43/100 [9:00:12<11:50:50, 748.26s/it]"
     ]
    },
    {
     "name": "stdout",
     "output_type": "stream",
     "text": [
      "Validation Loss after epoch 43 is 0.1425606608390808 and Accuracy is 94.6529330898496\n",
      "Training Loss after epoch 44 is 0.15125397128932289 and Accuracy is 94.455729505076\n"
     ]
    },
    {
     "name": "stderr",
     "output_type": "stream",
     "text": [
      "\r",
      "Percentage training completed:  44%|███████████████████▎                        | 44/100 [9:12:41<11:38:31, 748.42s/it]"
     ]
    },
    {
     "name": "stdout",
     "output_type": "stream",
     "text": [
      "Validation Loss after epoch 44 is 0.14165376126766205 and Accuracy is 94.6919178447586\n",
      "Training Loss after epoch 45 is 0.15111200135138847 and Accuracy is 94.44433045393302\n"
     ]
    },
    {
     "name": "stderr",
     "output_type": "stream",
     "text": [
      "\r",
      "Percentage training completed:  45%|███████████████████▊                        | 45/100 [9:25:08<11:25:52, 748.22s/it]"
     ]
    },
    {
     "name": "stdout",
     "output_type": "stream",
     "text": [
      "Validation Loss after epoch 45 is 0.1429612636566162 and Accuracy is 94.66456012201544\n",
      "Training Loss after epoch 46 is 0.15100956605888657 and Accuracy is 94.4438744918873\n"
     ]
    },
    {
     "name": "stderr",
     "output_type": "stream",
     "text": [
      "\r",
      "Percentage training completed:  46%|████████████████████▏                       | 46/100 [9:37:34<11:12:35, 747.32s/it]"
     ]
    },
    {
     "name": "stdout",
     "output_type": "stream",
     "text": [
      "Validation Loss after epoch 46 is 0.14264565706253052 and Accuracy is 94.64814548836955\n",
      "Training Loss after epoch 47 is 0.15095590415675936 and Accuracy is 94.4500299795045\n"
     ]
    },
    {
     "name": "stderr",
     "output_type": "stream",
     "text": [
      "\r",
      "Percentage training completed:  47%|████████████████████▋                       | 47/100 [9:50:01<11:00:10, 747.37s/it]"
     ]
    },
    {
     "name": "stdout",
     "output_type": "stream",
     "text": [
      "Validation Loss after epoch 47 is 0.14270275831222534 and Accuracy is 94.6529330898496\n",
      "Training Loss after epoch 48 is 0.15086804387758335 and Accuracy is 94.44797815029877\n"
     ]
    },
    {
     "name": "stderr",
     "output_type": "stream",
     "text": [
      "\r",
      "Percentage training completed:  48%|████████████████████▋                      | 48/100 [10:02:29<10:47:52, 747.55s/it]"
     ]
    },
    {
     "name": "stdout",
     "output_type": "stream",
     "text": [
      "Validation Loss after epoch 48 is 0.14137578010559082 and Accuracy is 94.64130605768376\n",
      "Training Loss after epoch 49 is 0.15081822462136707 and Accuracy is 94.45504556200741\n"
     ]
    },
    {
     "name": "stderr",
     "output_type": "stream",
     "text": [
      "\r",
      "Percentage training completed:  49%|█████████████████████                      | 49/100 [10:14:55<10:35:01, 747.10s/it]"
     ]
    },
    {
     "name": "stdout",
     "output_type": "stream",
     "text": [
      "Validation Loss after epoch 49 is 0.14291900396347046 and Accuracy is 94.6365184562037\n",
      "Training Loss after epoch 50 is 0.1507253238803503 and Accuracy is 94.44957401745879\n"
     ]
    },
    {
     "name": "stderr",
     "output_type": "stream",
     "text": [
      "\r",
      "Percentage training completed:  50%|█████████████████████▌                     | 50/100 [10:27:23<10:22:40, 747.21s/it]"
     ]
    },
    {
     "name": "stdout",
     "output_type": "stream",
     "text": [
      "Validation Loss after epoch 50 is 0.1427670121192932 and Accuracy is 94.64882943143813\n",
      "Training Loss after epoch 51 is 0.15066737675264685 and Accuracy is 94.45367767587027\n"
     ]
    },
    {
     "name": "stderr",
     "output_type": "stream",
     "text": [
      "\r",
      "Percentage training completed:  51%|█████████████████████▉                     | 51/100 [10:39:50<10:10:21, 747.37s/it]"
     ]
    },
    {
     "name": "stdout",
     "output_type": "stream",
     "text": [
      "Validation Loss after epoch 51 is 0.1421351432800293 and Accuracy is 94.65703674826108\n",
      "Training Loss after epoch 52 is 0.15053076669223892 and Accuracy is 94.46188499269321\n"
     ]
    },
    {
     "name": "stderr",
     "output_type": "stream",
     "text": [
      "\r",
      "Percentage training completed:  52%|██████████████████████▉                     | 52/100 [10:52:18<9:57:55, 747.41s/it]"
     ]
    },
    {
     "name": "stdout",
     "output_type": "stream",
     "text": [
      "Validation Loss after epoch 52 is 0.14185889065265656 and Accuracy is 94.67755504031844\n",
      "Training Loss after epoch 53 is 0.15044864290906837 and Accuracy is 94.46690057519612\n"
     ]
    },
    {
     "name": "stderr",
     "output_type": "stream",
     "text": [
      "\r",
      "Percentage training completed:  53%|███████████████████████▎                    | 53/100 [11:04:44<9:45:15, 747.13s/it]"
     ]
    },
    {
     "name": "stdout",
     "output_type": "stream",
     "text": [
      "Validation Loss after epoch 53 is 0.1428237110376358 and Accuracy is 94.65088126064387\n",
      "Training Loss after epoch 54 is 0.15031812087997418 and Accuracy is 94.46234095473893\n"
     ]
    },
    {
     "name": "stderr",
     "output_type": "stream",
     "text": [
      "\r",
      "Percentage training completed:  54%|███████████████████████▊                    | 54/100 [11:17:15<9:33:35, 748.16s/it]"
     ]
    },
    {
     "name": "stdout",
     "output_type": "stream",
     "text": [
      "Validation Loss after epoch 54 is 0.1412084996700287 and Accuracy is 94.65224914678102\n",
      "Training Loss after epoch 55 is 0.15030325217650667 and Accuracy is 94.47168817667617\n"
     ]
    },
    {
     "name": "stderr",
     "output_type": "stream",
     "text": [
      "\r",
      "Percentage training completed:  55%|████████████████████████▏                   | 55/100 [11:29:42<9:20:51, 747.81s/it]"
     ]
    },
    {
     "name": "stdout",
     "output_type": "stream",
     "text": [
      "Validation Loss after epoch 55 is 0.1420471966266632 and Accuracy is 94.61121256266628\n",
      "Training Loss after epoch 56 is 0.1501975424904599 and Accuracy is 94.47533587304193\n"
     ]
    },
    {
     "name": "stderr",
     "output_type": "stream",
     "text": [
      "\r",
      "Percentage training completed:  56%|████████████████████████▋                   | 56/100 [11:42:09<9:08:17, 747.66s/it]"
     ]
    },
    {
     "name": "stdout",
     "output_type": "stream",
     "text": [
      "Validation Loss after epoch 56 is 0.14201858639717102 and Accuracy is 94.64267394382091\n",
      "Training Loss after epoch 57 is 0.1501353041967377 and Accuracy is 94.47032029053902\n"
     ]
    },
    {
     "name": "stderr",
     "output_type": "stream",
     "text": [
      "\r",
      "Percentage training completed:  57%|█████████████████████████                   | 57/100 [11:54:35<8:55:25, 747.12s/it]"
     ]
    },
    {
     "name": "stdout",
     "output_type": "stream",
     "text": [
      "Validation Loss after epoch 57 is 0.14174558222293854 and Accuracy is 94.64951337450671\n",
      "Training Loss after epoch 58 is 0.15006415658316682 and Accuracy is 94.47282808179047\n"
     ]
    },
    {
     "name": "stderr",
     "output_type": "stream",
     "text": [
      "\r",
      "Percentage training completed:  58%|█████████████████████████▌                  | 58/100 [12:07:01<8:42:46, 746.83s/it]"
     ]
    },
    {
     "name": "stdout",
     "output_type": "stream",
     "text": [
      "Validation Loss after epoch 58 is 0.14133292436599731 and Accuracy is 94.64404182995807\n",
      "Training Loss after epoch 59 is 0.14996968308749176 and Accuracy is 94.47647577815623\n"
     ]
    },
    {
     "name": "stderr",
     "output_type": "stream",
     "text": [
      "\r",
      "Percentage training completed:  59%|█████████████████████████▉                  | 59/100 [12:19:29<8:30:26, 746.98s/it]"
     ]
    },
    {
     "name": "stdout",
     "output_type": "stream",
     "text": [
      "Validation Loss after epoch 59 is 0.14153778553009033 and Accuracy is 94.67208349576981\n",
      "Training Loss after epoch 60 is 0.14993435425336274 and Accuracy is 94.48103539861341\n"
     ]
    },
    {
     "name": "stderr",
     "output_type": "stream",
     "text": [
      "\r",
      "Percentage training completed:  60%|██████████████████████████▍                 | 60/100 [12:31:55<8:17:54, 746.87s/it]"
     ]
    },
    {
     "name": "stdout",
     "output_type": "stream",
     "text": [
      "Validation Loss after epoch 60 is 0.14137674868106842 and Accuracy is 94.68371052793566\n",
      "Training Loss after epoch 61 is 0.14988262882652667 and Accuracy is 94.47214413872189\n"
     ]
    },
    {
     "name": "stderr",
     "output_type": "stream",
     "text": [
      "\r",
      "Percentage training completed:  61%|██████████████████████████▊                 | 61/100 [12:44:24<8:05:45, 747.31s/it]"
     ]
    },
    {
     "name": "stdout",
     "output_type": "stream",
     "text": [
      "Validation Loss after epoch 61 is 0.141957089304924 and Accuracy is 94.63788634234086\n",
      "Training Loss after epoch 62 is 0.1498016338369915 and Accuracy is 94.48468309497918\n"
     ]
    },
    {
     "name": "stderr",
     "output_type": "stream",
     "text": [
      "\r",
      "Percentage training completed:  62%|███████████████████████████▎                | 62/100 [12:56:50<7:53:09, 747.10s/it]"
     ]
    },
    {
     "name": "stdout",
     "output_type": "stream",
     "text": [
      "Validation Loss after epoch 62 is 0.1419515162706375 and Accuracy is 94.65430097598676\n",
      "Training Loss after epoch 63 is 0.14976490878770854 and Accuracy is 94.48080741759055\n"
     ]
    },
    {
     "name": "stderr",
     "output_type": "stream",
     "text": [
      "\r",
      "Percentage training completed:  63%|███████████████████████████▋                | 63/100 [13:09:16<7:40:28, 746.72s/it]"
     ]
    },
    {
     "name": "stdout",
     "output_type": "stream",
     "text": [
      "Validation Loss after epoch 63 is 0.14141705632209778 and Accuracy is 94.67208349576981\n",
      "Training Loss after epoch 64 is 0.14969220681761825 and Accuracy is 94.48559501907062\n"
     ]
    },
    {
     "name": "stderr",
     "output_type": "stream",
     "text": [
      "\r",
      "Percentage training completed:  64%|████████████████████████████▏               | 64/100 [13:21:44<7:28:14, 747.08s/it]"
     ]
    },
    {
     "name": "stdout",
     "output_type": "stream",
     "text": [
      "Validation Loss after epoch 64 is 0.14187125861644745 and Accuracy is 94.59343004288323\n",
      "Training Loss after epoch 65 is 0.14959556775267863 and Accuracy is 94.49334637384784\n"
     ]
    },
    {
     "name": "stderr",
     "output_type": "stream",
     "text": [
      "\r",
      "Percentage training completed:  65%|████████████████████████████▌               | 65/100 [13:34:10<7:15:33, 746.67s/it]"
     ]
    },
    {
     "name": "stdout",
     "output_type": "stream",
     "text": [
      "Validation Loss after epoch 65 is 0.1412188559770584 and Accuracy is 94.6365184562037\n",
      "Training Loss after epoch 66 is 0.14959011683453186 and Accuracy is 94.48149136065913\n"
     ]
    },
    {
     "name": "stderr",
     "output_type": "stream",
     "text": [
      "\r",
      "Percentage training completed:  66%|█████████████████████████████               | 66/100 [13:46:37<7:03:09, 746.75s/it]"
     ]
    },
    {
     "name": "stdout",
     "output_type": "stream",
     "text": [
      "Validation Loss after epoch 66 is 0.14147640764713287 and Accuracy is 94.67687109724986\n",
      "Training Loss after epoch 67 is 0.14954169244614984 and Accuracy is 94.47875558838483\n"
     ]
    },
    {
     "name": "stderr",
     "output_type": "stream",
     "text": [
      "\r",
      "Percentage training completed:  67%|█████████████████████████████▍              | 67/100 [13:59:03<6:50:37, 746.60s/it]"
     ]
    },
    {
     "name": "stdout",
     "output_type": "stream",
     "text": [
      "Validation Loss after epoch 67 is 0.14096279442310333 and Accuracy is 94.62899508244934\n",
      "Training Loss after epoch 68 is 0.14944392880947316 and Accuracy is 94.48787482929922\n"
     ]
    },
    {
     "name": "stderr",
     "output_type": "stream",
     "text": [
      "\r",
      "Percentage training completed:  68%|█████████████████████████████▉              | 68/100 [14:11:30<6:38:14, 746.69s/it]"
     ]
    },
    {
     "name": "stdout",
     "output_type": "stream",
     "text": [
      "Validation Loss after epoch 68 is 0.14110928773880005 and Accuracy is 94.63925422847802\n",
      "Training Loss after epoch 69 is 0.14940678825253947 and Accuracy is 94.49289041180212\n"
     ]
    },
    {
     "name": "stderr",
     "output_type": "stream",
     "text": [
      "\r",
      "Percentage training completed:  69%|██████████████████████████████▎             | 69/100 [14:23:56<6:25:47, 746.68s/it]"
     ]
    },
    {
     "name": "stdout",
     "output_type": "stream",
     "text": [
      "Validation Loss after epoch 69 is 0.14101913571357727 and Accuracy is 94.66797983735835\n",
      "Training Loss after epoch 70 is 0.14940427423057778 and Accuracy is 94.49175050668782\n"
     ]
    },
    {
     "name": "stderr",
     "output_type": "stream",
     "text": [
      "\r",
      "Percentage training completed:  70%|██████████████████████████████▊             | 70/100 [14:36:23<6:13:16, 746.54s/it]"
     ]
    },
    {
     "name": "stdout",
     "output_type": "stream",
     "text": [
      "Validation Loss after epoch 70 is 0.14142249524593353 and Accuracy is 94.57222780775729\n",
      "Training Loss after epoch 71 is 0.14932146176507222 and Accuracy is 94.4874188672535\n"
     ]
    },
    {
     "name": "stderr",
     "output_type": "stream",
     "text": [
      "\r",
      "Percentage training completed:  71%|███████████████████████████████▏            | 71/100 [14:48:49<6:00:52, 746.63s/it]"
     ]
    },
    {
     "name": "stdout",
     "output_type": "stream",
     "text": [
      "Validation Loss after epoch 71 is 0.1414855271577835 and Accuracy is 94.6563528051925\n",
      "Training Loss after epoch 72 is 0.1492781770479264 and Accuracy is 94.48992665850494\n"
     ]
    },
    {
     "name": "stderr",
     "output_type": "stream",
     "text": [
      "\r",
      "Percentage training completed:  72%|███████████████████████████████▋            | 72/100 [15:01:16<5:48:22, 746.52s/it]"
     ]
    },
    {
     "name": "stdout",
     "output_type": "stream",
     "text": [
      "Validation Loss after epoch 72 is 0.14123395085334778 and Accuracy is 94.66319223587828\n",
      "Training Loss after epoch 73 is 0.14925273044984913 and Accuracy is 94.49425829793928\n"
     ]
    },
    {
     "name": "stderr",
     "output_type": "stream",
     "text": [
      "\r",
      "Percentage training completed:  73%|████████████████████████████████            | 73/100 [15:13:43<5:36:04, 746.85s/it]"
     ]
    },
    {
     "name": "stdout",
     "output_type": "stream",
     "text": [
      "Validation Loss after epoch 73 is 0.1408693492412567 and Accuracy is 94.65703674826108\n",
      "Training Loss after epoch 74 is 0.1491467784726389 and Accuracy is 94.48969867748208\n"
     ]
    },
    {
     "name": "stderr",
     "output_type": "stream",
     "text": [
      "\r",
      "Percentage training completed:  74%|████████████████████████████████▌           | 74/100 [15:26:12<5:23:50, 747.32s/it]"
     ]
    },
    {
     "name": "stdout",
     "output_type": "stream",
     "text": [
      "Validation Loss after epoch 74 is 0.14092262089252472 and Accuracy is 94.71517190909029\n",
      "Training Loss after epoch 75 is 0.14912612463428734 and Accuracy is 94.49289041180212\n"
     ]
    },
    {
     "name": "stderr",
     "output_type": "stream",
     "text": [
      "\r",
      "Percentage training completed:  75%|█████████████████████████████████           | 75/100 [15:38:38<5:11:14, 746.98s/it]"
     ]
    },
    {
     "name": "stdout",
     "output_type": "stream",
     "text": [
      "Validation Loss after epoch 75 is 0.1405404806137085 and Accuracy is 94.67276743883839\n",
      "Training Loss after epoch 76 is 0.149076923324595 and Accuracy is 94.49311839282498\n"
     ]
    },
    {
     "name": "stderr",
     "output_type": "stream",
     "text": [
      "\r",
      "Percentage training completed:  76%|█████████████████████████████████▍          | 76/100 [15:51:05<4:58:46, 746.92s/it]"
     ]
    },
    {
     "name": "stdout",
     "output_type": "stream",
     "text": [
      "Validation Loss after epoch 76 is 0.14149720966815948 and Accuracy is 94.70286093385586\n",
      "Training Loss after epoch 77 is 0.1489787779835471 and Accuracy is 94.50976100749374\n"
     ]
    },
    {
     "name": "stderr",
     "output_type": "stream",
     "text": [
      "\r",
      "Percentage training completed:  77%|█████████████████████████████████▉          | 77/100 [16:03:32<4:46:22, 747.08s/it]"
     ]
    },
    {
     "name": "stdout",
     "output_type": "stream",
     "text": [
      "Validation Loss after epoch 77 is 0.14004360139369965 and Accuracy is 94.68097475566134\n",
      "Training Loss after epoch 78 is 0.14896946067942607 and Accuracy is 94.494714259985\n"
     ]
    },
    {
     "name": "stderr",
     "output_type": "stream",
     "text": [
      "\r",
      "Percentage training completed:  78%|██████████████████████████████████▎         | 78/100 [16:16:01<4:34:04, 747.49s/it]"
     ]
    },
    {
     "name": "stdout",
     "output_type": "stream",
     "text": [
      "Validation Loss after epoch 78 is 0.14074337482452393 and Accuracy is 94.67755504031844\n",
      "Training Loss after epoch 79 is 0.1489222906721834 and Accuracy is 94.49403031691642\n"
     ]
    },
    {
     "name": "stderr",
     "output_type": "stream",
     "text": [
      "\r",
      "Percentage training completed:  79%|██████████████████████████████████▊         | 79/100 [16:28:27<4:21:29, 747.10s/it]"
     ]
    },
    {
     "name": "stdout",
     "output_type": "stream",
     "text": [
      "Validation Loss after epoch 79 is 0.14090968668460846 and Accuracy is 94.69465361703291\n",
      "Training Loss after epoch 80 is 0.1489188544775789 and Accuracy is 94.50862110237944\n"
     ]
    },
    {
     "name": "stderr",
     "output_type": "stream",
     "text": [
      "\r",
      "Percentage training completed:  80%|███████████████████████████████████▏        | 80/100 [16:40:55<4:09:10, 747.52s/it]"
     ]
    },
    {
     "name": "stdout",
     "output_type": "stream",
     "text": [
      "Validation Loss after epoch 80 is 0.14073415100574493 and Accuracy is 94.59548187208897\n",
      "Training Loss after epoch 81 is 0.1488505671409752 and Accuracy is 94.4924344497564\n"
     ]
    },
    {
     "name": "stderr",
     "output_type": "stream",
     "text": [
      "\r",
      "Percentage training completed:  81%|███████████████████████████████████▋        | 81/100 [16:53:25<3:56:56, 748.25s/it]"
     ]
    },
    {
     "name": "stdout",
     "output_type": "stream",
     "text": [
      "Validation Loss after epoch 81 is 0.14109475910663605 and Accuracy is 94.65361703291818\n",
      "Training Loss after epoch 82 is 0.14888170769414097 and Accuracy is 94.50679725419656\n"
     ]
    },
    {
     "name": "stderr",
     "output_type": "stream",
     "text": [
      "\r",
      "Percentage training completed:  82%|████████████████████████████████████        | 82/100 [17:05:54<3:44:29, 748.33s/it]"
     ]
    },
    {
     "name": "stdout",
     "output_type": "stream",
     "text": [
      "Validation Loss after epoch 82 is 0.1405162215232849 and Accuracy is 94.6987572754444\n",
      "Training Loss after epoch 83 is 0.1487844704307177 and Accuracy is 94.49904589941933\n"
     ]
    },
    {
     "name": "stderr",
     "output_type": "stream",
     "text": [
      "\r",
      "Percentage training completed:  83%|████████████████████████████████████▌       | 83/100 [17:18:22<3:31:58, 748.17s/it]"
     ]
    },
    {
     "name": "stdout",
     "output_type": "stream",
     "text": [
      "Validation Loss after epoch 83 is 0.1406676173210144 and Accuracy is 94.6789229264556\n",
      "Training Loss after epoch 84 is 0.14878396585450931 and Accuracy is 94.49881791839647\n"
     ]
    },
    {
     "name": "stderr",
     "output_type": "stream",
     "text": [
      "\r",
      "Percentage training completed:  84%|████████████████████████████████████▉       | 84/100 [17:30:50<3:19:32, 748.26s/it]"
     ]
    },
    {
     "name": "stdout",
     "output_type": "stream",
     "text": [
      "Validation Loss after epoch 84 is 0.14047427475452423 and Accuracy is 94.6529330898496\n",
      "Training Loss after epoch 85 is 0.1487450777695832 and Accuracy is 94.4958541650993\n"
     ]
    },
    {
     "name": "stderr",
     "output_type": "stream",
     "text": [
      "\r",
      "Percentage training completed:  85%|█████████████████████████████████████▍      | 85/100 [17:43:22<3:07:20, 749.35s/it]"
     ]
    },
    {
     "name": "stdout",
     "output_type": "stream",
     "text": [
      "Validation Loss after epoch 85 is 0.14060832560062408 and Accuracy is 94.67413532497555\n",
      "Training Loss after epoch 86 is 0.14866267585709636 and Accuracy is 94.49334637384784\n"
     ]
    },
    {
     "name": "stderr",
     "output_type": "stream",
     "text": [
      "\r",
      "Percentage training completed:  86%|█████████████████████████████████████▊      | 86/100 [17:56:11<2:56:13, 755.27s/it]"
     ]
    },
    {
     "name": "stdout",
     "output_type": "stream",
     "text": [
      "Validation Loss after epoch 86 is 0.1406950205564499 and Accuracy is 94.67208349576981\n",
      "Training Loss after epoch 87 is 0.1486428239654428 and Accuracy is 94.49972984248791\n"
     ]
    },
    {
     "name": "stderr",
     "output_type": "stream",
     "text": [
      "\r",
      "Percentage training completed:  87%|██████████████████████████████████████▎     | 87/100 [18:08:36<2:42:59, 752.26s/it]"
     ]
    },
    {
     "name": "stdout",
     "output_type": "stream",
     "text": [
      "Validation Loss after epoch 87 is 0.1409657895565033 and Accuracy is 94.62420748096929\n",
      "Training Loss after epoch 88 is 0.14856548442815515 and Accuracy is 94.50041378555649\n"
     ]
    },
    {
     "name": "stderr",
     "output_type": "stream",
     "text": [
      "\r",
      "Percentage training completed:  88%|██████████████████████████████████████▋     | 88/100 [18:21:08<2:30:26, 752.25s/it]"
     ]
    },
    {
     "name": "stdout",
     "output_type": "stream",
     "text": [
      "Validation Loss after epoch 88 is 0.14091351628303528 and Accuracy is 94.70012516158155\n",
      "Training Loss after epoch 89 is 0.14854833640939896 and Accuracy is 94.50360551987653\n"
     ]
    },
    {
     "name": "stderr",
     "output_type": "stream",
     "text": [
      "\r",
      "Percentage training completed:  89%|███████████████████████████████████████▏    | 89/100 [18:33:41<2:17:56, 752.38s/it]"
     ]
    },
    {
     "name": "stdout",
     "output_type": "stream",
     "text": [
      "Validation Loss after epoch 89 is 0.1409161388874054 and Accuracy is 94.67345138190697\n",
      "Training Loss after epoch 90 is 0.14849953342497219 and Accuracy is 94.51135687465376\n"
     ]
    },
    {
     "name": "stderr",
     "output_type": "stream",
     "text": [
      "\r",
      "Percentage training completed:  90%|███████████████████████████████████████▌    | 90/100 [18:46:08<2:05:08, 750.86s/it]"
     ]
    },
    {
     "name": "stdout",
     "output_type": "stream",
     "text": [
      "Validation Loss after epoch 90 is 0.14058656990528107 and Accuracy is 94.68986601555287\n",
      "Training Loss after epoch 91 is 0.14848586599639968 and Accuracy is 94.50314955783081\n"
     ]
    },
    {
     "name": "stderr",
     "output_type": "stream",
     "text": [
      "\r",
      "Percentage training completed:  91%|████████████████████████████████████████    | 91/100 [18:58:43<1:52:48, 752.01s/it]"
     ]
    },
    {
     "name": "stdout",
     "output_type": "stream",
     "text": [
      "Validation Loss after epoch 91 is 0.14080160856246948 and Accuracy is 94.70012516158155\n",
      "Training Loss after epoch 92 is 0.14843527202349457 and Accuracy is 94.50132570964793\n"
     ]
    },
    {
     "name": "stderr",
     "output_type": "stream",
     "text": [
      "\r",
      "Percentage training completed:  92%|███████████████████████████████████████▌   | 92/100 [19:35:56<2:39:30, 1196.25s/it]"
     ]
    },
    {
     "name": "stdout",
     "output_type": "stream",
     "text": [
      "Validation Loss after epoch 92 is 0.14055800437927246 and Accuracy is 94.70149304771871\n"
     ]
    },
    {
     "name": "stderr",
     "output_type": "stream",
     "text": [
      "Percentage training completed:  92%|████████████████████████████████████████▍   | 92/100 [19:44:02<1:42:57, 772.20s/it]\n"
     ]
    },
    {
     "ename": "KeyboardInterrupt",
     "evalue": "",
     "output_type": "error",
     "traceback": [
      "\u001b[1;31m---------------------------------------------------------------------------\u001b[0m",
      "\u001b[1;31mKeyboardInterrupt\u001b[0m                         Traceback (most recent call last)",
      "\u001b[1;32m<ipython-input-49-7ee90ff53266>\u001b[0m in \u001b[0;36m<module>\u001b[1;34m\u001b[0m\n\u001b[1;32m----> 1\u001b[1;33m \u001b[0mm\u001b[0m\u001b[1;33m,\u001b[0m\u001b[0macc\u001b[0m\u001b[1;33m,\u001b[0m \u001b[0mlo\u001b[0m\u001b[1;33m,\u001b[0m \u001b[0mval_ac\u001b[0m\u001b[1;33m,\u001b[0m \u001b[0mval_lo\u001b[0m \u001b[1;33m=\u001b[0m \u001b[0mrun_XBNET\u001b[0m\u001b[1;33m(\u001b[0m\u001b[0mX_train\u001b[0m\u001b[1;33m.\u001b[0m\u001b[0mvalues\u001b[0m\u001b[1;33m,\u001b[0m\u001b[0mX_test\u001b[0m\u001b[1;33m.\u001b[0m\u001b[0mvalues\u001b[0m\u001b[1;33m,\u001b[0m\u001b[0my_train\u001b[0m\u001b[1;33m.\u001b[0m\u001b[0mvalues\u001b[0m\u001b[1;33m,\u001b[0m\u001b[0my_test\u001b[0m\u001b[1;33m.\u001b[0m\u001b[0mvalues\u001b[0m\u001b[1;33m,\u001b[0m\u001b[0mmodel\u001b[0m\u001b[1;33m,\u001b[0m\u001b[0mcriterion\u001b[0m\u001b[1;33m,\u001b[0m\u001b[0moptimizer\u001b[0m\u001b[1;33m,\u001b[0m\u001b[0mepochs\u001b[0m\u001b[1;33m=\u001b[0m\u001b[1;36m100\u001b[0m\u001b[1;33m,\u001b[0m\u001b[0mbatch_size\u001b[0m\u001b[1;33m=\u001b[0m\u001b[1;36m32\u001b[0m\u001b[1;33m)\u001b[0m\u001b[1;33m\u001b[0m\u001b[1;33m\u001b[0m\u001b[0m\n\u001b[0m",
      "\u001b[1;32m~\\XBNet\\run.py\u001b[0m in \u001b[0;36mrun_XBNET\u001b[1;34m(X_train, X_test, y_train, y_test, model, criterion, optimizer, batch_size, epochs, save)\u001b[0m\n\u001b[0;32m     38\u001b[0m     \u001b[0mtrainDataload\u001b[0m \u001b[1;33m=\u001b[0m \u001b[0mDataLoader\u001b[0m\u001b[1;33m(\u001b[0m\u001b[0mData\u001b[0m\u001b[1;33m(\u001b[0m\u001b[0mX_train\u001b[0m\u001b[1;33m,\u001b[0m \u001b[0my_train\u001b[0m\u001b[1;33m)\u001b[0m\u001b[1;33m,\u001b[0m \u001b[0mbatch_size\u001b[0m\u001b[1;33m=\u001b[0m\u001b[0mbatch_size\u001b[0m\u001b[1;33m)\u001b[0m\u001b[1;33m\u001b[0m\u001b[1;33m\u001b[0m\u001b[0m\n\u001b[0;32m     39\u001b[0m     \u001b[0mtestDataload\u001b[0m \u001b[1;33m=\u001b[0m \u001b[0mDataLoader\u001b[0m\u001b[1;33m(\u001b[0m\u001b[0mData\u001b[0m\u001b[1;33m(\u001b[0m\u001b[0mX_test\u001b[0m\u001b[1;33m,\u001b[0m \u001b[0my_test\u001b[0m\u001b[1;33m)\u001b[0m\u001b[1;33m,\u001b[0m \u001b[0mbatch_size\u001b[0m\u001b[1;33m=\u001b[0m\u001b[0mbatch_size\u001b[0m\u001b[1;33m)\u001b[0m\u001b[1;33m\u001b[0m\u001b[1;33m\u001b[0m\u001b[0m\n\u001b[1;32m---> 40\u001b[1;33m     acc, lo, val_ac, val_lo = training(model, trainDataload, testDataload,\n\u001b[0m\u001b[0;32m     41\u001b[0m                                        criterion, optimizer, epochs,save= save)\n\u001b[0;32m     42\u001b[0m     \u001b[1;32mreturn\u001b[0m \u001b[0mmodel\u001b[0m\u001b[1;33m,\u001b[0m\u001b[0macc\u001b[0m\u001b[1;33m,\u001b[0m \u001b[0mlo\u001b[0m\u001b[1;33m,\u001b[0m \u001b[0mval_ac\u001b[0m\u001b[1;33m,\u001b[0m \u001b[0mval_lo\u001b[0m\u001b[1;33m\u001b[0m\u001b[1;33m\u001b[0m\u001b[0m\n",
      "\u001b[1;32m~\\XBNet\\training_utils.py\u001b[0m in \u001b[0;36mtraining\u001b[1;34m(model, trainDataload, testDataload, criterion, optimizer, epochs, save)\u001b[0m\n\u001b[0;32m     44\u001b[0m             \u001b[0mloss\u001b[0m\u001b[1;33m.\u001b[0m\u001b[0mbackward\u001b[0m\u001b[1;33m(\u001b[0m\u001b[1;33m)\u001b[0m\u001b[1;33m\u001b[0m\u001b[1;33m\u001b[0m\u001b[0m\n\u001b[0;32m     45\u001b[0m             \u001b[0moptimizer\u001b[0m\u001b[1;33m.\u001b[0m\u001b[0mstep\u001b[0m\u001b[1;33m(\u001b[0m\u001b[1;33m)\u001b[0m\u001b[1;33m\u001b[0m\u001b[1;33m\u001b[0m\u001b[0m\n\u001b[1;32m---> 46\u001b[1;33m             \u001b[0moptimizer\u001b[0m\u001b[1;33m.\u001b[0m\u001b[0mzero_grad\u001b[0m\u001b[1;33m(\u001b[0m\u001b[1;33m)\u001b[0m\u001b[1;33m\u001b[0m\u001b[1;33m\u001b[0m\u001b[0m\n\u001b[0m\u001b[0;32m     47\u001b[0m             \u001b[1;32mfor\u001b[0m \u001b[0mi\u001b[0m\u001b[1;33m,\u001b[0m \u001b[0mp\u001b[0m \u001b[1;32min\u001b[0m \u001b[0menumerate\u001b[0m\u001b[1;33m(\u001b[0m\u001b[0mmodel\u001b[0m\u001b[1;33m.\u001b[0m\u001b[0mparameters\u001b[0m\u001b[1;33m(\u001b[0m\u001b[1;33m)\u001b[0m\u001b[1;33m)\u001b[0m\u001b[1;33m:\u001b[0m\u001b[1;33m\u001b[0m\u001b[1;33m\u001b[0m\u001b[0m\n\u001b[0;32m     48\u001b[0m                 \u001b[1;32mif\u001b[0m \u001b[0mi\u001b[0m \u001b[1;33m<\u001b[0m \u001b[0mmodel\u001b[0m\u001b[1;33m.\u001b[0m\u001b[0mnum_layers_boosted\u001b[0m\u001b[1;33m:\u001b[0m\u001b[1;33m\u001b[0m\u001b[1;33m\u001b[0m\u001b[0m\n",
      "\u001b[1;32m~\\anaconda3\\lib\\site-packages\\torch\\optim\\optimizer.py\u001b[0m in \u001b[0;36mzero_grad\u001b[1;34m(self, set_to_none)\u001b[0m\n\u001b[0;32m    265\u001b[0m         \u001b[1;32mif\u001b[0m \u001b[0mforeach\u001b[0m\u001b[1;33m:\u001b[0m\u001b[1;33m\u001b[0m\u001b[1;33m\u001b[0m\u001b[0m\n\u001b[0;32m    266\u001b[0m             \u001b[0mper_device_and_dtype_grads\u001b[0m \u001b[1;33m=\u001b[0m \u001b[0mdefaultdict\u001b[0m\u001b[1;33m(\u001b[0m\u001b[1;32mlambda\u001b[0m\u001b[1;33m:\u001b[0m \u001b[0mdefaultdict\u001b[0m\u001b[1;33m(\u001b[0m\u001b[0mlist\u001b[0m\u001b[1;33m)\u001b[0m\u001b[1;33m)\u001b[0m\u001b[1;33m\u001b[0m\u001b[1;33m\u001b[0m\u001b[0m\n\u001b[1;32m--> 267\u001b[1;33m         \u001b[1;32mwith\u001b[0m \u001b[0mtorch\u001b[0m\u001b[1;33m.\u001b[0m\u001b[0mautograd\u001b[0m\u001b[1;33m.\u001b[0m\u001b[0mprofiler\u001b[0m\u001b[1;33m.\u001b[0m\u001b[0mrecord_function\u001b[0m\u001b[1;33m(\u001b[0m\u001b[0mself\u001b[0m\u001b[1;33m.\u001b[0m\u001b[0m_zero_grad_profile_name\u001b[0m\u001b[1;33m)\u001b[0m\u001b[1;33m:\u001b[0m\u001b[1;33m\u001b[0m\u001b[1;33m\u001b[0m\u001b[0m\n\u001b[0m\u001b[0;32m    268\u001b[0m             \u001b[1;32mfor\u001b[0m \u001b[0mgroup\u001b[0m \u001b[1;32min\u001b[0m \u001b[0mself\u001b[0m\u001b[1;33m.\u001b[0m\u001b[0mparam_groups\u001b[0m\u001b[1;33m:\u001b[0m\u001b[1;33m\u001b[0m\u001b[1;33m\u001b[0m\u001b[0m\n\u001b[0;32m    269\u001b[0m                 \u001b[1;32mfor\u001b[0m \u001b[0mp\u001b[0m \u001b[1;32min\u001b[0m \u001b[0mgroup\u001b[0m\u001b[1;33m[\u001b[0m\u001b[1;34m'params'\u001b[0m\u001b[1;33m]\u001b[0m\u001b[1;33m:\u001b[0m\u001b[1;33m\u001b[0m\u001b[1;33m\u001b[0m\u001b[0m\n",
      "\u001b[1;32m~\\anaconda3\\lib\\site-packages\\torch\\autograd\\profiler.py\u001b[0m in \u001b[0;36m__init__\u001b[1;34m(self, name, args)\u001b[0m\n\u001b[0;32m    483\u001b[0m         \u001b[1;31m# Stores underlying RecordFunction as a tensor. TODO: move to custom\u001b[0m\u001b[1;33m\u001b[0m\u001b[1;33m\u001b[0m\u001b[1;33m\u001b[0m\u001b[0m\n\u001b[0;32m    484\u001b[0m         \u001b[1;31m# class (https://github.com/pytorch/pytorch/issues/35026).\u001b[0m\u001b[1;33m\u001b[0m\u001b[1;33m\u001b[0m\u001b[1;33m\u001b[0m\u001b[0m\n\u001b[1;32m--> 485\u001b[1;33m         \u001b[0mself\u001b[0m\u001b[1;33m.\u001b[0m\u001b[0mhandle\u001b[0m\u001b[1;33m:\u001b[0m \u001b[0mtorch\u001b[0m\u001b[1;33m.\u001b[0m\u001b[0mTensor\u001b[0m \u001b[1;33m=\u001b[0m \u001b[0mtorch\u001b[0m\u001b[1;33m.\u001b[0m\u001b[0mzeros\u001b[0m\u001b[1;33m(\u001b[0m\u001b[1;36m1\u001b[0m\u001b[1;33m)\u001b[0m\u001b[1;33m\u001b[0m\u001b[1;33m\u001b[0m\u001b[0m\n\u001b[0m\u001b[0;32m    486\u001b[0m \u001b[1;33m\u001b[0m\u001b[0m\n\u001b[0;32m    487\u001b[0m     \u001b[1;32mdef\u001b[0m \u001b[0m__enter__\u001b[0m\u001b[1;33m(\u001b[0m\u001b[0mself\u001b[0m\u001b[1;33m)\u001b[0m\u001b[1;33m:\u001b[0m\u001b[1;33m\u001b[0m\u001b[1;33m\u001b[0m\u001b[0m\n",
      "\u001b[1;31mKeyboardInterrupt\u001b[0m: "
     ]
    }
   ],
   "source": [
    "m,acc, lo, val_ac, val_lo = run_XBNET(X_train.values,X_test.values,y_train.values,y_test.values,model,criterion,optimizer,epochs=100,batch_size=32)"
   ]
  },
  {
   "cell_type": "code",
   "execution_count": 102,
   "metadata": {},
   "outputs": [
    {
     "ename": "NameError",
     "evalue": "name 'acc' is not defined",
     "output_type": "error",
     "traceback": [
      "\u001b[1;31m---------------------------------------------------------------------------\u001b[0m",
      "\u001b[1;31mNameError\u001b[0m                                 Traceback (most recent call last)",
      "\u001b[1;32m<ipython-input-102-a7b56afd5afc>\u001b[0m in \u001b[0;36m<module>\u001b[1;34m\u001b[0m\n\u001b[0;32m      1\u001b[0m \u001b[0mplt\u001b[0m\u001b[1;33m.\u001b[0m\u001b[0mfigure\u001b[0m\u001b[1;33m(\u001b[0m\u001b[0mfigsize\u001b[0m\u001b[1;33m=\u001b[0m\u001b[1;33m(\u001b[0m\u001b[1;36m10\u001b[0m\u001b[1;33m,\u001b[0m\u001b[1;36m5\u001b[0m\u001b[1;33m)\u001b[0m\u001b[1;33m)\u001b[0m\u001b[1;33m\u001b[0m\u001b[1;33m\u001b[0m\u001b[0m\n\u001b[0;32m      2\u001b[0m \u001b[0mplt\u001b[0m\u001b[1;33m.\u001b[0m\u001b[0msubplot\u001b[0m\u001b[1;33m(\u001b[0m\u001b[1;36m1\u001b[0m\u001b[1;33m,\u001b[0m\u001b[1;36m2\u001b[0m\u001b[1;33m,\u001b[0m\u001b[1;36m1\u001b[0m\u001b[1;33m)\u001b[0m\u001b[1;33m\u001b[0m\u001b[1;33m\u001b[0m\u001b[0m\n\u001b[1;32m----> 3\u001b[1;33m \u001b[0mplt\u001b[0m\u001b[1;33m.\u001b[0m\u001b[0mplot\u001b[0m\u001b[1;33m(\u001b[0m\u001b[0macc\u001b[0m\u001b[1;33m,\u001b[0m\u001b[0mlabel\u001b[0m\u001b[1;33m=\u001b[0m\u001b[1;34m'training accuracy'\u001b[0m\u001b[1;33m)\u001b[0m\u001b[1;33m\u001b[0m\u001b[1;33m\u001b[0m\u001b[0m\n\u001b[0m\u001b[0;32m      4\u001b[0m \u001b[0mplt\u001b[0m\u001b[1;33m.\u001b[0m\u001b[0mplot\u001b[0m\u001b[1;33m(\u001b[0m\u001b[0mval_ac\u001b[0m\u001b[1;33m,\u001b[0m\u001b[0mlabel\u001b[0m \u001b[1;33m=\u001b[0m \u001b[1;34m'validation accuracy'\u001b[0m\u001b[1;33m)\u001b[0m\u001b[1;33m\u001b[0m\u001b[1;33m\u001b[0m\u001b[0m\n\u001b[0;32m      5\u001b[0m \u001b[0mplt\u001b[0m\u001b[1;33m.\u001b[0m\u001b[0mxlabel\u001b[0m\u001b[1;33m(\u001b[0m\u001b[1;34m'epochs'\u001b[0m\u001b[1;33m)\u001b[0m\u001b[1;33m\u001b[0m\u001b[1;33m\u001b[0m\u001b[0m\n",
      "\u001b[1;31mNameError\u001b[0m: name 'acc' is not defined"
     ]
    },
    {
     "data": {
      "image/png": "[encoded data removed]",
      "text/plain": [
       "<Figure size 720x360 with 1 Axes>"
      ]
     },
     "metadata": {},
     "output_type": "display_data"
    }
   ],
   "source": [
    "plt.figure(figsize=(10,5))\n",
    "plt.subplot(1,2,1)\n",
    "plt.plot(acc,label='training accuracy')\n",
    "plt.plot(val_ac,label = 'validation accuracy')\n",
    "plt.xlabel('epochs')\n",
    "plt.ylabel('accuracy')\n",
    "plt.legend()\n",
    "\n",
    "plt.subplot(1,2,2)\n",
    "plt.plot(lo,label='training loss')\n",
    "plt.plot(val_lo,label = 'validation loss')\n",
    "plt.xlabel('epochs')\n",
    "plt.ylabel('loss')\n",
    "plt.legend()"
   ]
  },
  {
   "cell_type": "code",
   "execution_count": 51,
   "metadata": {},
   "outputs": [],
   "source": [
    "from sklearn.metrics import classification_report"
   ]
  },
  {
   "cell_type": "code",
   "execution_count": 56,
   "metadata": {},
   "outputs": [],
   "source": [
    "from XBNet.training_utils import training,predict"
   ]
  },
  {
   "cell_type": "code",
   "execution_count": 35,
   "metadata": {},
   "outputs": [],
   "source": [
    "def predict(model,X):\n",
    "    X = torch.from_numpy(X)\n",
    "    y_pred = model(X.float(), train=False)\n",
    "    if model.name == \"Classification\":\n",
    "        if model.labels == 1:\n",
    "            if y_pred < torch.Tensor([0.5]):\n",
    "                y_pred = 0\n",
    "            else:\n",
    "                y_pred = 1\n",
    "        else:\n",
    "            y_pred = np.argmax(y_pred.detach().numpy(),axis=1)\n",
    "        return y_pred\n",
    "    else:\n",
    "        return y_pred.detach().numpy()[0]"
   ]
  },
  {
   "cell_type": "code",
   "execution_count": 61,
   "metadata": {},
   "outputs": [
    {
     "name": "stdout",
     "output_type": "stream",
     "text": [
      "              precision    recall  f1-score   support\n",
      "\n",
      "           0       0.92      0.98      0.95    219317\n",
      "           1       0.97      0.91      0.94    219316\n",
      "\n",
      "    accuracy                           0.94    438633\n",
      "   macro avg       0.95      0.94      0.94    438633\n",
      "weighted avg       0.95      0.94      0.94    438633\n",
      "\n"
     ]
    }
   ],
   "source": [
    "print(classification_report(y_train,predict(model,X_train.values).round()))"
   ]
  },
  {
   "cell_type": "code",
   "execution_count": 62,
   "metadata": {},
   "outputs": [
    {
     "name": "stdout",
     "output_type": "stream",
     "text": [
      "              precision    recall  f1-score   support\n",
      "\n",
      "           0       0.92      0.98      0.95     73105\n",
      "           1       0.98      0.91      0.94     73106\n",
      "\n",
      "    accuracy                           0.94    146211\n",
      "   macro avg       0.95      0.94      0.94    146211\n",
      "weighted avg       0.95      0.94      0.94    146211\n",
      "\n"
     ]
    }
   ],
   "source": [
    "print(classification_report(y_test,predict(model,X_test.values).round()))"
   ]
  },
  {
   "cell_type": "code",
   "execution_count": 100,
   "metadata": {},
   "outputs": [],
   "source": [
    "from sklearn.metrics import confusion_matrix"
   ]
  },
  {
   "cell_type": "code",
   "execution_count": 101,
   "metadata": {},
   "outputs": [
    {
     "data": {
      "text/plain": [
       "array([[72727,   378],\n",
       "       [ 7368, 65738]], dtype=int64)"
      ]
     },
     "execution_count": 101,
     "metadata": {},
     "output_type": "execute_result"
    }
   ],
   "source": [
    "confusion_matrix(y_test,predict(model,X_test.values).round())"
   ]
  },
  {
   "cell_type": "code",
   "execution_count": 103,
   "metadata": {},
   "outputs": [],
   "source": [
    "import pickle"
   ]
  },
  {
   "cell_type": "code",
   "execution_count": null,
   "metadata": {},
   "outputs": [],
   "source": [
    "pickle.dump(model, open('model_heart.pkl', 'wb'))"
   ]
  },
  {
   "cell_type": "code",
   "execution_count": 42,
   "metadata": {},
   "outputs": [
    {
     "data": {
      "text/plain": [
       "38"
      ]
     },
     "execution_count": 42,
     "metadata": {},
     "output_type": "execute_result"
    }
   ],
   "source": [
    "len(X_test.values)"
   ]
  },
  {
   "cell_type": "code",
   "execution_count": 43,
   "metadata": {},
   "outputs": [
    {
     "data": {
      "text/plain": [
       "(146211, 38)"
      ]
     },
     "execution_count": 43,
     "metadata": {},
     "output_type": "execute_result"
    }
   ],
   "source": [
    "X_test.shape"
   ]
  },
  {
   "cell_type": "code",
   "execution_count": 99,
   "metadata": {},
   "outputs": [
    {
     "data": {
      "text/plain": [
       "array([0., 0., 3., 8., 2., 0., 1., 0., 1., 1., 0., 1., 0., 0., 1., 0., 0.,\n",
       "       0., 0., 0., 1., 1., 0., 0., 0., 0., 1., 1., 0., 0., 0., 0., 1., 0.,\n",
       "       1., 0., 1., 0.])"
      ]
     },
     "execution_count": 99,
     "metadata": {},
     "output_type": "execute_result"
    }
   ],
   "source": [
    "X_test.values[0]"
   ]
  },
  {
   "cell_type": "code",
   "execution_count": null,
   "metadata": {},
   "outputs": [],
   "source": []
  }
 ],
 "metadata": {
  "kernelspec": {
   "display_name": "Python 3",
   "language": "python",
   "name": "python3"
  },
  "language_info": {
   "codemirror_mode": {
    "name": "ipython",
    "version": 3
   },
   "file_extension": ".py",
   "mimetype": "text/x-python",
   "name": "python",
   "nbconvert_exporter": "python",
   "pygments_lexer": "ipython3",
   "version": "3.8.5"
  }
 },
 "nbformat": 4,
 "nbformat_minor": 4
}
